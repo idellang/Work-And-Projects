{
 "metadata": {
  "language_info": {
   "codemirror_mode": {
    "name": "ipython",
    "version": 3
   },
   "file_extension": ".py",
   "mimetype": "text/x-python",
   "name": "python",
   "nbconvert_exporter": "python",
   "pygments_lexer": "ipython3",
   "version": "3.9.0"
  },
  "orig_nbformat": 2,
  "kernelspec": {
   "name": "python390jvsc74a57bd0c538cf36d1368961783812db133503b5bcd381ebafab078933f492cb36ca4168",
   "display_name": "Python 3.9.0 64-bit"
  },
  "metadata": {
   "interpreter": {
    "hash": "c538cf36d1368961783812db133503b5bcd381ebafab078933f492cb36ca4168"
   }
  }
 },
 "nbformat": 4,
 "nbformat_minor": 2,
 "cells": [
  {
   "cell_type": "code",
   "execution_count": 34,
   "metadata": {},
   "outputs": [],
   "source": [
    "import pandas as pd \n",
    "import numpy as np\n",
    "import datetime\n",
    "import time"
   ]
  },
  {
   "cell_type": "code",
   "execution_count": 35,
   "metadata": {},
   "outputs": [],
   "source": [
    "data = pd.read_csv('kodigo_points.csv')"
   ]
  },
  {
   "cell_type": "code",
   "execution_count": 36,
   "metadata": {},
   "outputs": [
    {
     "output_type": "execute_result",
     "data": {
      "text/plain": [
       "datestamp        datetime64[ns]\n",
       "plateno                  object\n",
       "geofence_name            object\n",
       "dtype: object"
      ]
     },
     "metadata": {},
     "execution_count": 36
    }
   ],
   "source": [
    "data['datestamp'] = pd.to_datetime(data['datestamp'])\n",
    "data.dtypes"
   ]
  },
  {
   "cell_type": "code",
   "execution_count": 37,
   "metadata": {},
   "outputs": [],
   "source": [
    "data['track_period'] = data['datestamp'].dt.floor('30T')"
   ]
  },
  {
   "cell_type": "code",
   "execution_count": 38,
   "metadata": {},
   "outputs": [],
   "source": [
    "data['time_start'] = data.groupby(['plateno','geofence_name','track_period']).transform('min')\n",
    "data['time_end'] = data.groupby(['plateno','geofence_name','track_period']).transform('max')['datestamp']\n",
    "data['count'] = data.groupby(['plateno','geofence_name','track_period']).transform('count')['datestamp']\n",
    "data['duration'] = (data['time_end'] - data['time_start']).dt.total_seconds()\n"
   ]
  },
  {
   "cell_type": "code",
   "execution_count": 39,
   "metadata": {},
   "outputs": [],
   "source": [
    "data = data.loc[(data['count'] > 5) & (data['duration'] > 300), :]\n",
    "data = data.sort_values(by = ['plateno','geofence_name','track_period'])\n",
    "data = data.loc[:, ['plateno','geofence_name','track_period','time_start','time_end','duration','count']]"
   ]
  },
  {
   "cell_type": "code",
   "execution_count": 40,
   "metadata": {},
   "outputs": [],
   "source": [
    "data.drop_duplicates(inplace = True)\n",
    "data = data.sort_values(by = ['plateno','track_period'])\n",
    "data = data.sort_values(by = ['plateno','geofence_name'])"
   ]
  },
  {
   "cell_type": "code",
   "execution_count": 41,
   "metadata": {},
   "outputs": [],
   "source": [
    "data['time_end_prev_loc'] = data.groupby(['plateno','geofence_name'])['time_end'].shift(1)\n",
    "data['time_start_next_loc'] = data.groupby(['plateno','geofence_name'])['time_start'].shift(-1)\n"
   ]
  },
  {
   "cell_type": "code",
   "execution_count": 42,
   "metadata": {},
   "outputs": [],
   "source": [
    "data['time_diff_next_loc'] = (data['time_start_next_loc'] - data['time_end']).dt.total_seconds()\n",
    "data['time_diff_prev_loc'] = (data['time_start'] - data['time_end_prev_loc']).dt.total_seconds()"
   ]
  },
  {
   "cell_type": "code",
   "execution_count": 43,
   "metadata": {},
   "outputs": [],
   "source": [
    "data['continue_next_loc']= data['time_diff_next_loc'] < 300\n",
    "data['continue_prev_loc'] = data['time_diff_prev_loc'] < 300\n",
    "data['continuing'] = data['continue_prev_loc'] & data['continue_next_loc']"
   ]
  },
  {
   "cell_type": "code",
   "execution_count": 44,
   "metadata": {},
   "outputs": [],
   "source": [
    "data = data.loc[(data['continuing'] == False), :]"
   ]
  },
  {
   "cell_type": "code",
   "execution_count": 45,
   "metadata": {},
   "outputs": [],
   "source": [
    "data['lead_time_diff_prev_loc'] = data.groupby(['plateno','geofence_name'])['time_diff_prev_loc'].shift(-1)\n",
    "data['lead_time_end'] = data.groupby(['plateno','geofence_name'])['time_end'].shift(-1)"
   ]
  },
  {
   "cell_type": "code",
   "execution_count": 46,
   "metadata": {},
   "outputs": [],
   "source": [
    "c1 = data['time_end_prev_loc'].isnull()\n",
    "c2 = data['lead_time_diff_prev_loc'] < 300\n",
    "c3 = data['time_diff_next_loc'] <= 300\n",
    "\n",
    "condition = ((c1 | c2) & c3)\n",
    "\n",
    "data['actual_time_end'] = np.where(condition, data['lead_time_end'], data['time_end'])"
   ]
  },
  {
   "cell_type": "code",
   "execution_count": 47,
   "metadata": {},
   "outputs": [],
   "source": [
    "data['actual_time_end'] = np.where(data['time_diff_next_loc'].isnull(), data['time_end'], data['actual_time_end'])"
   ]
  },
  {
   "cell_type": "code",
   "execution_count": 48,
   "metadata": {},
   "outputs": [],
   "source": [
    "data = data.loc[data['actual_time_end'].notnull(),:]\n",
    "data = data.loc[:, ['plateno','geofence_name','time_start','actual_time_end']]"
   ]
  },
  {
   "cell_type": "code",
   "execution_count": 49,
   "metadata": {},
   "outputs": [],
   "source": [
    "data['duration'] = (data['actual_time_end'] - data['time_start']).dt.total_seconds()"
   ]
  },
  {
   "cell_type": "code",
   "execution_count": 50,
   "metadata": {},
   "outputs": [],
   "source": [
    "data['ranking'] = data.groupby(['plateno','geofence_name','actual_time_end'])['duration'].rank(ascending = False)"
   ]
  },
  {
   "cell_type": "code",
   "execution_count": 51,
   "metadata": {},
   "outputs": [],
   "source": [
    "data = data.loc[data['ranking'] != 2, :]"
   ]
  },
  {
   "cell_type": "code",
   "execution_count": 52,
   "metadata": {},
   "outputs": [],
   "source": [
    "data = data.loc[:, ['plateno','geofence_name','time_start','actual_time_end','duration']]"
   ]
  },
  {
   "cell_type": "code",
   "execution_count": 53,
   "metadata": {},
   "outputs": [],
   "source": [
    "data = data.rename(columns= {'time_start':'datestamp_entry', 'actual_time_end': 'datestamp_left','duration' : 'dwell_time'}).reset_index(drop=True)"
   ]
  },
  {
   "cell_type": "code",
   "execution_count": 54,
   "metadata": {},
   "outputs": [],
   "source": [
    "data = data.sort_values(by = 'datestamp_entry').reset_index(drop=True)"
   ]
  },
  {
   "cell_type": "code",
   "execution_count": 55,
   "metadata": {},
   "outputs": [],
   "source": [
    "data['dwell_time_hms'] = pd.to_datetime(data['dwell_time'], unit='s').dt.strftime(\"%H:%M:%S\")"
   ]
  },
  {
   "source": [
    "### Normalizing CICO"
   ],
   "cell_type": "markdown",
   "metadata": {}
  },
  {
   "cell_type": "code",
   "execution_count": 56,
   "metadata": {},
   "outputs": [
    {
     "output_type": "execute_result",
     "data": {
      "text/plain": [
       "     plateno                       geofence_name     datestamp_entry  \\\n",
       "0    ABK1494  BICOL EXCL'T SLS & TRADING-CALAMBA 2021-03-01 00:00:58   \n",
       "1     CXK260    PH Transshipment Hub Nueva Ecija 2021-03-01 00:02:06   \n",
       "2     WQC386              SM Hypermarket - Ormoc 2021-03-01 06:14:57   \n",
       "3     CXK260    PH Transshipment Hub Nueva Ecija 2021-03-01 07:00:11   \n",
       "4    ABK1494          PH Batino Grocery - Source 2021-03-01 07:34:01   \n",
       "..       ...                                 ...                 ...   \n",
       "813  KAD4602    PH Cagayan Grocery - Destination 2021-03-31 18:05:10   \n",
       "814   CXK260    PH Transshipment Hub Nueva Ecija 2021-03-31 18:34:24   \n",
       "815   CXK260    PH Transshipment Hub Nueva Ecija 2021-03-31 19:04:25   \n",
       "816   CXK260    PH Transshipment Hub Nueva Ecija 2021-03-31 21:06:26   \n",
       "817   CXK260    PH Transshipment Hub Nueva Ecija 2021-03-31 22:36:28   \n",
       "\n",
       "         datestamp_left  dwell_time dwell_time_hms  \n",
       "0   2021-03-01 07:27:49     26811.0       07:26:51  \n",
       "1   2021-03-01 05:56:10     21244.0       05:54:04  \n",
       "2   2021-03-01 13:47:29     27152.0       07:32:32  \n",
       "3   2021-03-01 08:22:11      4920.0       01:22:00  \n",
       "4   2021-03-01 16:16:45     31364.0       08:42:44  \n",
       "..                  ...         ...            ...  \n",
       "813 2021-03-31 23:29:32     19462.0       05:24:22  \n",
       "814 2021-03-31 18:58:25      1441.0       00:24:01  \n",
       "815 2021-03-31 19:28:25      1440.0       00:24:00  \n",
       "816 2021-03-31 22:28:27      4921.0       01:22:01  \n",
       "817 2021-03-31 23:24:28      2880.0       00:48:00  \n",
       "\n",
       "[818 rows x 6 columns]"
      ],
      "text/html": "<div>\n<style scoped>\n    .dataframe tbody tr th:only-of-type {\n        vertical-align: middle;\n    }\n\n    .dataframe tbody tr th {\n        vertical-align: top;\n    }\n\n    .dataframe thead th {\n        text-align: right;\n    }\n</style>\n<table border=\"1\" class=\"dataframe\">\n  <thead>\n    <tr style=\"text-align: right;\">\n      <th></th>\n      <th>plateno</th>\n      <th>geofence_name</th>\n      <th>datestamp_entry</th>\n      <th>datestamp_left</th>\n      <th>dwell_time</th>\n      <th>dwell_time_hms</th>\n    </tr>\n  </thead>\n  <tbody>\n    <tr>\n      <th>0</th>\n      <td>ABK1494</td>\n      <td>BICOL EXCL'T SLS &amp; TRADING-CALAMBA</td>\n      <td>2021-03-01 00:00:58</td>\n      <td>2021-03-01 07:27:49</td>\n      <td>26811.0</td>\n      <td>07:26:51</td>\n    </tr>\n    <tr>\n      <th>1</th>\n      <td>CXK260</td>\n      <td>PH Transshipment Hub Nueva Ecija</td>\n      <td>2021-03-01 00:02:06</td>\n      <td>2021-03-01 05:56:10</td>\n      <td>21244.0</td>\n      <td>05:54:04</td>\n    </tr>\n    <tr>\n      <th>2</th>\n      <td>WQC386</td>\n      <td>SM Hypermarket - Ormoc</td>\n      <td>2021-03-01 06:14:57</td>\n      <td>2021-03-01 13:47:29</td>\n      <td>27152.0</td>\n      <td>07:32:32</td>\n    </tr>\n    <tr>\n      <th>3</th>\n      <td>CXK260</td>\n      <td>PH Transshipment Hub Nueva Ecija</td>\n      <td>2021-03-01 07:00:11</td>\n      <td>2021-03-01 08:22:11</td>\n      <td>4920.0</td>\n      <td>01:22:00</td>\n    </tr>\n    <tr>\n      <th>4</th>\n      <td>ABK1494</td>\n      <td>PH Batino Grocery - Source</td>\n      <td>2021-03-01 07:34:01</td>\n      <td>2021-03-01 16:16:45</td>\n      <td>31364.0</td>\n      <td>08:42:44</td>\n    </tr>\n    <tr>\n      <th>...</th>\n      <td>...</td>\n      <td>...</td>\n      <td>...</td>\n      <td>...</td>\n      <td>...</td>\n      <td>...</td>\n    </tr>\n    <tr>\n      <th>813</th>\n      <td>KAD4602</td>\n      <td>PH Cagayan Grocery - Destination</td>\n      <td>2021-03-31 18:05:10</td>\n      <td>2021-03-31 23:29:32</td>\n      <td>19462.0</td>\n      <td>05:24:22</td>\n    </tr>\n    <tr>\n      <th>814</th>\n      <td>CXK260</td>\n      <td>PH Transshipment Hub Nueva Ecija</td>\n      <td>2021-03-31 18:34:24</td>\n      <td>2021-03-31 18:58:25</td>\n      <td>1441.0</td>\n      <td>00:24:01</td>\n    </tr>\n    <tr>\n      <th>815</th>\n      <td>CXK260</td>\n      <td>PH Transshipment Hub Nueva Ecija</td>\n      <td>2021-03-31 19:04:25</td>\n      <td>2021-03-31 19:28:25</td>\n      <td>1440.0</td>\n      <td>00:24:00</td>\n    </tr>\n    <tr>\n      <th>816</th>\n      <td>CXK260</td>\n      <td>PH Transshipment Hub Nueva Ecija</td>\n      <td>2021-03-31 21:06:26</td>\n      <td>2021-03-31 22:28:27</td>\n      <td>4921.0</td>\n      <td>01:22:01</td>\n    </tr>\n    <tr>\n      <th>817</th>\n      <td>CXK260</td>\n      <td>PH Transshipment Hub Nueva Ecija</td>\n      <td>2021-03-31 22:36:28</td>\n      <td>2021-03-31 23:24:28</td>\n      <td>2880.0</td>\n      <td>00:48:00</td>\n    </tr>\n  </tbody>\n</table>\n<p>818 rows × 6 columns</p>\n</div>"
     },
     "metadata": {},
     "execution_count": 56
    }
   ],
   "source": [
    "data"
   ]
  },
  {
   "cell_type": "code",
   "execution_count": 57,
   "metadata": {},
   "outputs": [],
   "source": [
    "data = data.sort_values(by = ['plateno', 'datestamp_entry', 'geofence_name'])"
   ]
  },
  {
   "cell_type": "code",
   "execution_count": 58,
   "metadata": {},
   "outputs": [
    {
     "output_type": "execute_result",
     "data": {
      "text/plain": [
       "     plateno                       geofence_name     datestamp_entry  \\\n",
       "0    ABK1494  BICOL EXCL'T SLS & TRADING-CALAMBA 2021-03-01 00:00:58   \n",
       "5    ABK1494     PH Batino Grocery - Destination 2021-03-01 07:34:01   \n",
       "4    ABK1494          PH Batino Grocery - Source 2021-03-01 07:34:01   \n",
       "16   ABK1494  BICOL EXCL'T SLS & TRADING-CALAMBA 2021-03-01 16:32:11   \n",
       "21   ABK1494     PUREGOLD PRICE CLUB - PARIAN JR 2021-03-02 03:32:06   \n",
       "..       ...                                 ...                 ...   \n",
       "471   WQC386    PH Mandaue Grocery - Destination 2021-03-18 21:51:05   \n",
       "472   WQC386         PH Mandaue Grocery - Source 2021-03-18 21:52:06   \n",
       "507   WQC386       Puregold Price Club - Kananga 2021-03-20 01:43:11   \n",
       "545   WQC386    PH Mandaue Grocery - Destination 2021-03-21 08:38:04   \n",
       "547   WQC386         PH Mandaue Grocery - Source 2021-03-21 09:33:40   \n",
       "\n",
       "         datestamp_left  dwell_time dwell_time_hms  prev_match  next_match  \\\n",
       "0   2021-03-01 07:27:49     26811.0       07:26:51       False       False   \n",
       "5   2021-03-01 16:16:45     31364.0       08:42:44       False       False   \n",
       "4   2021-03-01 16:16:45     31364.0       08:42:44       False       False   \n",
       "16  2021-03-02 03:47:18     40507.0       11:15:07       False       False   \n",
       "21  2021-03-02 03:43:09       663.0       00:11:03       False       False   \n",
       "..                  ...         ...            ...         ...         ...   \n",
       "471 2021-03-19 03:06:32     18927.0       05:15:27       False       False   \n",
       "472 2021-03-19 02:59:58     18472.0       05:07:52       False       False   \n",
       "507 2021-03-20 12:24:49     38498.0       10:41:38       False       False   \n",
       "545 2021-03-21 10:59:59      8515.0       02:21:55       False       False   \n",
       "547 2021-03-21 10:59:59      5179.0       01:26:19       False       False   \n",
       "\n",
       "     continuing  \n",
       "0             0  \n",
       "5             0  \n",
       "4             0  \n",
       "16            0  \n",
       "21            0  \n",
       "..          ...  \n",
       "471           0  \n",
       "472           0  \n",
       "507           0  \n",
       "545           0  \n",
       "547           0  \n",
       "\n",
       "[818 rows x 9 columns]"
      ],
      "text/html": "<div>\n<style scoped>\n    .dataframe tbody tr th:only-of-type {\n        vertical-align: middle;\n    }\n\n    .dataframe tbody tr th {\n        vertical-align: top;\n    }\n\n    .dataframe thead th {\n        text-align: right;\n    }\n</style>\n<table border=\"1\" class=\"dataframe\">\n  <thead>\n    <tr style=\"text-align: right;\">\n      <th></th>\n      <th>plateno</th>\n      <th>geofence_name</th>\n      <th>datestamp_entry</th>\n      <th>datestamp_left</th>\n      <th>dwell_time</th>\n      <th>dwell_time_hms</th>\n      <th>prev_match</th>\n      <th>next_match</th>\n      <th>continuing</th>\n    </tr>\n  </thead>\n  <tbody>\n    <tr>\n      <th>0</th>\n      <td>ABK1494</td>\n      <td>BICOL EXCL'T SLS &amp; TRADING-CALAMBA</td>\n      <td>2021-03-01 00:00:58</td>\n      <td>2021-03-01 07:27:49</td>\n      <td>26811.0</td>\n      <td>07:26:51</td>\n      <td>False</td>\n      <td>False</td>\n      <td>0</td>\n    </tr>\n    <tr>\n      <th>5</th>\n      <td>ABK1494</td>\n      <td>PH Batino Grocery - Destination</td>\n      <td>2021-03-01 07:34:01</td>\n      <td>2021-03-01 16:16:45</td>\n      <td>31364.0</td>\n      <td>08:42:44</td>\n      <td>False</td>\n      <td>False</td>\n      <td>0</td>\n    </tr>\n    <tr>\n      <th>4</th>\n      <td>ABK1494</td>\n      <td>PH Batino Grocery - Source</td>\n      <td>2021-03-01 07:34:01</td>\n      <td>2021-03-01 16:16:45</td>\n      <td>31364.0</td>\n      <td>08:42:44</td>\n      <td>False</td>\n      <td>False</td>\n      <td>0</td>\n    </tr>\n    <tr>\n      <th>16</th>\n      <td>ABK1494</td>\n      <td>BICOL EXCL'T SLS &amp; TRADING-CALAMBA</td>\n      <td>2021-03-01 16:32:11</td>\n      <td>2021-03-02 03:47:18</td>\n      <td>40507.0</td>\n      <td>11:15:07</td>\n      <td>False</td>\n      <td>False</td>\n      <td>0</td>\n    </tr>\n    <tr>\n      <th>21</th>\n      <td>ABK1494</td>\n      <td>PUREGOLD PRICE CLUB - PARIAN JR</td>\n      <td>2021-03-02 03:32:06</td>\n      <td>2021-03-02 03:43:09</td>\n      <td>663.0</td>\n      <td>00:11:03</td>\n      <td>False</td>\n      <td>False</td>\n      <td>0</td>\n    </tr>\n    <tr>\n      <th>...</th>\n      <td>...</td>\n      <td>...</td>\n      <td>...</td>\n      <td>...</td>\n      <td>...</td>\n      <td>...</td>\n      <td>...</td>\n      <td>...</td>\n      <td>...</td>\n    </tr>\n    <tr>\n      <th>471</th>\n      <td>WQC386</td>\n      <td>PH Mandaue Grocery - Destination</td>\n      <td>2021-03-18 21:51:05</td>\n      <td>2021-03-19 03:06:32</td>\n      <td>18927.0</td>\n      <td>05:15:27</td>\n      <td>False</td>\n      <td>False</td>\n      <td>0</td>\n    </tr>\n    <tr>\n      <th>472</th>\n      <td>WQC386</td>\n      <td>PH Mandaue Grocery - Source</td>\n      <td>2021-03-18 21:52:06</td>\n      <td>2021-03-19 02:59:58</td>\n      <td>18472.0</td>\n      <td>05:07:52</td>\n      <td>False</td>\n      <td>False</td>\n      <td>0</td>\n    </tr>\n    <tr>\n      <th>507</th>\n      <td>WQC386</td>\n      <td>Puregold Price Club - Kananga</td>\n      <td>2021-03-20 01:43:11</td>\n      <td>2021-03-20 12:24:49</td>\n      <td>38498.0</td>\n      <td>10:41:38</td>\n      <td>False</td>\n      <td>False</td>\n      <td>0</td>\n    </tr>\n    <tr>\n      <th>545</th>\n      <td>WQC386</td>\n      <td>PH Mandaue Grocery - Destination</td>\n      <td>2021-03-21 08:38:04</td>\n      <td>2021-03-21 10:59:59</td>\n      <td>8515.0</td>\n      <td>02:21:55</td>\n      <td>False</td>\n      <td>False</td>\n      <td>0</td>\n    </tr>\n    <tr>\n      <th>547</th>\n      <td>WQC386</td>\n      <td>PH Mandaue Grocery - Source</td>\n      <td>2021-03-21 09:33:40</td>\n      <td>2021-03-21 10:59:59</td>\n      <td>5179.0</td>\n      <td>01:26:19</td>\n      <td>False</td>\n      <td>False</td>\n      <td>0</td>\n    </tr>\n  </tbody>\n</table>\n<p>818 rows × 9 columns</p>\n</div>"
     },
     "metadata": {},
     "execution_count": 58
    }
   ],
   "source": [
    "data['prev_match'] = data['geofence_name'].eq(data['geofence_name'].shift(1))\n",
    "data['next_match'] = data['geofence_name'].eq(data['geofence_name'].shift(-1))\n",
    "data['continuing'] = np.where((data['prev_match']) & (data['next_match']), 1, 0)\n",
    "\n",
    "data"
   ]
  },
  {
   "cell_type": "code",
   "execution_count": 59,
   "metadata": {},
   "outputs": [],
   "source": [
    "data = data.loc[:, ['plateno', 'geofence_name','datestamp_entry', 'datestamp_left', 'dwell_time','dwell_time_hms', 'continuing']]\n",
    "data = data.loc[data['continuing'] == 0]"
   ]
  },
  {
   "cell_type": "code",
   "execution_count": 60,
   "metadata": {},
   "outputs": [],
   "source": [
    "data['has_same_next'] =  np.where(data['geofence_name'].eq(data['geofence_name'].shift(-1)), 1, 0)"
   ]
  },
  {
   "cell_type": "code",
   "execution_count": 61,
   "metadata": {},
   "outputs": [
    {
     "output_type": "execute_result",
     "data": {
      "text/plain": [
       "     plateno                       geofence_name     datestamp_entry  \\\n",
       "0    ABK1494  BICOL EXCL'T SLS & TRADING-CALAMBA 2021-03-01 00:00:58   \n",
       "5    ABK1494     PH Batino Grocery - Destination 2021-03-01 07:34:01   \n",
       "4    ABK1494          PH Batino Grocery - Source 2021-03-01 07:34:01   \n",
       "16   ABK1494  BICOL EXCL'T SLS & TRADING-CALAMBA 2021-03-01 16:32:11   \n",
       "21   ABK1494     PUREGOLD PRICE CLUB - PARIAN JR 2021-03-02 03:32:06   \n",
       "..       ...                                 ...                 ...   \n",
       "471   WQC386    PH Mandaue Grocery - Destination 2021-03-18 21:51:05   \n",
       "472   WQC386         PH Mandaue Grocery - Source 2021-03-18 21:52:06   \n",
       "507   WQC386       Puregold Price Club - Kananga 2021-03-20 01:43:11   \n",
       "545   WQC386    PH Mandaue Grocery - Destination 2021-03-21 08:38:04   \n",
       "547   WQC386         PH Mandaue Grocery - Source 2021-03-21 09:33:40   \n",
       "\n",
       "         datestamp_left  dwell_time dwell_time_hms  continuing  has_same_next  \n",
       "0   2021-03-01 07:27:49     26811.0       07:26:51           0              0  \n",
       "5   2021-03-01 16:16:45     31364.0       08:42:44           0              0  \n",
       "4   2021-03-01 16:16:45     31364.0       08:42:44           0              0  \n",
       "16  2021-03-02 03:47:18     40507.0       11:15:07           0              0  \n",
       "21  2021-03-02 03:43:09       663.0       00:11:03           0              0  \n",
       "..                  ...         ...            ...         ...            ...  \n",
       "471 2021-03-19 03:06:32     18927.0       05:15:27           0              0  \n",
       "472 2021-03-19 02:59:58     18472.0       05:07:52           0              0  \n",
       "507 2021-03-20 12:24:49     38498.0       10:41:38           0              0  \n",
       "545 2021-03-21 10:59:59      8515.0       02:21:55           0              0  \n",
       "547 2021-03-21 10:59:59      5179.0       01:26:19           0              0  \n",
       "\n",
       "[518 rows x 8 columns]"
      ],
      "text/html": "<div>\n<style scoped>\n    .dataframe tbody tr th:only-of-type {\n        vertical-align: middle;\n    }\n\n    .dataframe tbody tr th {\n        vertical-align: top;\n    }\n\n    .dataframe thead th {\n        text-align: right;\n    }\n</style>\n<table border=\"1\" class=\"dataframe\">\n  <thead>\n    <tr style=\"text-align: right;\">\n      <th></th>\n      <th>plateno</th>\n      <th>geofence_name</th>\n      <th>datestamp_entry</th>\n      <th>datestamp_left</th>\n      <th>dwell_time</th>\n      <th>dwell_time_hms</th>\n      <th>continuing</th>\n      <th>has_same_next</th>\n    </tr>\n  </thead>\n  <tbody>\n    <tr>\n      <th>0</th>\n      <td>ABK1494</td>\n      <td>BICOL EXCL'T SLS &amp; TRADING-CALAMBA</td>\n      <td>2021-03-01 00:00:58</td>\n      <td>2021-03-01 07:27:49</td>\n      <td>26811.0</td>\n      <td>07:26:51</td>\n      <td>0</td>\n      <td>0</td>\n    </tr>\n    <tr>\n      <th>5</th>\n      <td>ABK1494</td>\n      <td>PH Batino Grocery - Destination</td>\n      <td>2021-03-01 07:34:01</td>\n      <td>2021-03-01 16:16:45</td>\n      <td>31364.0</td>\n      <td>08:42:44</td>\n      <td>0</td>\n      <td>0</td>\n    </tr>\n    <tr>\n      <th>4</th>\n      <td>ABK1494</td>\n      <td>PH Batino Grocery - Source</td>\n      <td>2021-03-01 07:34:01</td>\n      <td>2021-03-01 16:16:45</td>\n      <td>31364.0</td>\n      <td>08:42:44</td>\n      <td>0</td>\n      <td>0</td>\n    </tr>\n    <tr>\n      <th>16</th>\n      <td>ABK1494</td>\n      <td>BICOL EXCL'T SLS &amp; TRADING-CALAMBA</td>\n      <td>2021-03-01 16:32:11</td>\n      <td>2021-03-02 03:47:18</td>\n      <td>40507.0</td>\n      <td>11:15:07</td>\n      <td>0</td>\n      <td>0</td>\n    </tr>\n    <tr>\n      <th>21</th>\n      <td>ABK1494</td>\n      <td>PUREGOLD PRICE CLUB - PARIAN JR</td>\n      <td>2021-03-02 03:32:06</td>\n      <td>2021-03-02 03:43:09</td>\n      <td>663.0</td>\n      <td>00:11:03</td>\n      <td>0</td>\n      <td>0</td>\n    </tr>\n    <tr>\n      <th>...</th>\n      <td>...</td>\n      <td>...</td>\n      <td>...</td>\n      <td>...</td>\n      <td>...</td>\n      <td>...</td>\n      <td>...</td>\n      <td>...</td>\n    </tr>\n    <tr>\n      <th>471</th>\n      <td>WQC386</td>\n      <td>PH Mandaue Grocery - Destination</td>\n      <td>2021-03-18 21:51:05</td>\n      <td>2021-03-19 03:06:32</td>\n      <td>18927.0</td>\n      <td>05:15:27</td>\n      <td>0</td>\n      <td>0</td>\n    </tr>\n    <tr>\n      <th>472</th>\n      <td>WQC386</td>\n      <td>PH Mandaue Grocery - Source</td>\n      <td>2021-03-18 21:52:06</td>\n      <td>2021-03-19 02:59:58</td>\n      <td>18472.0</td>\n      <td>05:07:52</td>\n      <td>0</td>\n      <td>0</td>\n    </tr>\n    <tr>\n      <th>507</th>\n      <td>WQC386</td>\n      <td>Puregold Price Club - Kananga</td>\n      <td>2021-03-20 01:43:11</td>\n      <td>2021-03-20 12:24:49</td>\n      <td>38498.0</td>\n      <td>10:41:38</td>\n      <td>0</td>\n      <td>0</td>\n    </tr>\n    <tr>\n      <th>545</th>\n      <td>WQC386</td>\n      <td>PH Mandaue Grocery - Destination</td>\n      <td>2021-03-21 08:38:04</td>\n      <td>2021-03-21 10:59:59</td>\n      <td>8515.0</td>\n      <td>02:21:55</td>\n      <td>0</td>\n      <td>0</td>\n    </tr>\n    <tr>\n      <th>547</th>\n      <td>WQC386</td>\n      <td>PH Mandaue Grocery - Source</td>\n      <td>2021-03-21 09:33:40</td>\n      <td>2021-03-21 10:59:59</td>\n      <td>5179.0</td>\n      <td>01:26:19</td>\n      <td>0</td>\n      <td>0</td>\n    </tr>\n  </tbody>\n</table>\n<p>518 rows × 8 columns</p>\n</div>"
     },
     "metadata": {},
     "execution_count": 61
    }
   ],
   "source": [
    "data"
   ]
  },
  {
   "cell_type": "code",
   "execution_count": 62,
   "metadata": {},
   "outputs": [],
   "source": [
    "data['new_datestamp_left'] = np.where(data['has_same_next'] == 1, data['datestamp_left'].shift(-1), data['datestamp_left'])"
   ]
  },
  {
   "cell_type": "code",
   "execution_count": 63,
   "metadata": {},
   "outputs": [],
   "source": [
    "data['to_remove'] = data['has_same_next'].shift(1) == 1\n",
    "data = data.loc[data['to_remove'] == False, ['plateno', 'geofence_name', 'datestamp_entry','new_datestamp_left' ,'dwell_time', 'dwell_time_hms']]"
   ]
  },
  {
   "cell_type": "code",
   "execution_count": 64,
   "metadata": {},
   "outputs": [],
   "source": [
    "data.rename(columns= {'new_datestamp_left' :'datestamp_left'}, inplace=True)"
   ]
  },
  {
   "cell_type": "code",
   "execution_count": 65,
   "metadata": {},
   "outputs": [],
   "source": [
    "data['dwell_time'] = (data['datestamp_left'] - data['datestamp_entry']).dt.total_seconds()\n",
    "data['dwell_time_hms'] = pd.to_datetime(data['dwell_time'], unit='s').dt.strftime(\"%H:%M:%S\")\n",
    "data.reset_index(drop = True, inplace = True)"
   ]
  }
 ]
}