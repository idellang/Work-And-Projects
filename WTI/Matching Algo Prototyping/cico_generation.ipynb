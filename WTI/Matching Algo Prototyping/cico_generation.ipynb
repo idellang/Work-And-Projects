{
 "metadata": {
  "language_info": {
   "codemirror_mode": {
    "name": "ipython",
    "version": 3
   },
   "file_extension": ".py",
   "mimetype": "text/x-python",
   "name": "python",
   "nbconvert_exporter": "python",
   "pygments_lexer": "ipython3",
   "version": "3.9.0"
  },
  "orig_nbformat": 2,
  "kernelspec": {
   "name": "python390jvsc74a57bd0c538cf36d1368961783812db133503b5bcd381ebafab078933f492cb36ca4168",
   "display_name": "Python 3.9.0 64-bit"
  },
  "metadata": {
   "interpreter": {
    "hash": "c538cf36d1368961783812db133503b5bcd381ebafab078933f492cb36ca4168"
   }
  }
 },
 "nbformat": 4,
 "nbformat_minor": 2,
 "cells": [
  {
   "source": [
    "## Load libraries and data"
   ],
   "cell_type": "markdown",
   "metadata": {}
  },
  {
   "cell_type": "code",
   "execution_count": 1,
   "metadata": {},
   "outputs": [],
   "source": [
    "import pandas as pd \n",
    "import numpy as np\n",
    "import datetime\n",
    "import time\n",
    "import geopandas as gpd"
   ]
  },
  {
   "cell_type": "code",
   "execution_count": 2,
   "metadata": {},
   "outputs": [
    {
     "output_type": "execute_result",
     "data": {
      "text/plain": [
       "                                name  \\\n",
       "0   City Supermarket - Market Square   \n",
       "1        Puregold Price Club - Agora   \n",
       "2  Ultra Mega Multi Sales - Kalookan   \n",
       "3                Rustan's - Marikina   \n",
       "4                Rustan's - Fairview   \n",
       "\n",
       "                                             address       type  \\\n",
       "0  Inside CSI Market Square, Downtown District, D...  rectangle   \n",
       "1  1 N Domingo St.Cor F Blumentritt, Pedro Cruz, ...    polygon   \n",
       "2  163 Teofilo Samson Ave, Caloocan, 1420 Metro M...  rectangle   \n",
       "3  27 Royal Palm St, Marikina, 1800 Metro Manila,...  rectangle   \n",
       "4  6 General Aguinaldo Ave, Cubao, Quezon City, 1...    polygon   \n",
       "\n",
       "                                            location           window_tim  \\\n",
       "0  {'lat': 16.043410180944765, 'lon': 120.3362203...  1990-12-12 00:00:00   \n",
       "1  {'lat': 14.605119723980204, 'lon': 121.0232510...  1990-12-12 00:00:00   \n",
       "2  {'lat': 14.739714110694091, 'lon': 121.0251580...  1990-12-12 00:00:00   \n",
       "3  {'lat': 14.6503079761005, 'lon': 121.116088176...         Invalid date   \n",
       "4  {'lat': 14.622015808686214, 'lon': 121.0535702...         Invalid date   \n",
       "\n",
       "            window_t_1  group_ids             group_name        category  \\\n",
       "0  1990-12-12 01:00:00  [343, 30]  ['Nestle', 'Webcast']  Pickup/Dropoff   \n",
       "1  1990-12-12 01:00:00  [343, 30]  ['Nestle', 'Webcast']  Pickup/Dropoff   \n",
       "2  1990-12-12 01:00:00  [343, 30]  ['Nestle', 'Webcast']  Pickup/Dropoff   \n",
       "3         Invalid date  [343, 30]  ['Nestle', 'Webcast']  Pickup/Dropoff   \n",
       "4         Invalid date  [343, 30]  ['Nestle', 'Webcast']  Pickup/Dropoff   \n",
       "\n",
       "       geofence_c  ...                       barangay        municipali  \\\n",
       "0  PHEC0000343131  ...            Barangay II (Nueva)      DAGUPAN CITY   \n",
       "1  PHEC0002174857  ...                     Pedro Cruz  CITY OF SAN JUAN   \n",
       "2  PHEC0002168891  ...                   Barangay 168     CALOOCAN CITY   \n",
       "3  PHEC0002598218  ...  Marikina Heights (Concepcion)  CITY OF MARIKINA   \n",
       "4  PHEC0002578706  ...                        Socorro       QUEZON CITY   \n",
       "\n",
       "               province                         region  \\\n",
       "0            PANGASINAN       REGION I (ILOCOS REGION)   \n",
       "1  NCR, SECOND DISTRICT  NCR (NATIONAL CAPITAL REGION)   \n",
       "2   NCR, THIRD DISTRICT  NCR (NATIONAL CAPITAL REGION)   \n",
       "3  NCR, SECOND DISTRICT  NCR (NATIONAL CAPITAL REGION)   \n",
       "4  NCR, SECOND DISTRICT  NCR (NATIONAL CAPITAL REGION)   \n",
       "\n",
       "                   created                 modified client_ids client_nam  \\\n",
       "0  2020/06/10 10:42:55.000  2020/09/10 07:09:45.000       None       None   \n",
       "1  2020/06/10 10:43:47.000  2020/07/30 06:59:55.000       None       None   \n",
       "2  2020/06/10 10:43:47.000  2020/09/10 04:53:41.000       None       None   \n",
       "3  2020/06/10 10:43:55.000  2020/08/20 04:21:18.000       None       None   \n",
       "4  2020/06/10 10:43:51.000  2020/08/20 04:14:16.000       None       None   \n",
       "\n",
       "  store_code                                           geometry  \n",
       "0        NaN  POLYGON ((120.33711 16.04253, 120.33533 16.042...  \n",
       "1        NaN  POLYGON ((121.02351 14.60612, 121.02432 14.605...  \n",
       "2        NaN  POLYGON ((121.02558 14.73925, 121.02473 14.739...  \n",
       "3        NaN  POLYGON ((121.11639 14.65008, 121.11579 14.650...  \n",
       "4        NaN  POLYGON ((121.05288 14.62244, 121.05419 14.622...  \n",
       "\n",
       "[5 rows x 23 columns]"
      ],
      "text/html": "<div>\n<style scoped>\n    .dataframe tbody tr th:only-of-type {\n        vertical-align: middle;\n    }\n\n    .dataframe tbody tr th {\n        vertical-align: top;\n    }\n\n    .dataframe thead th {\n        text-align: right;\n    }\n</style>\n<table border=\"1\" class=\"dataframe\">\n  <thead>\n    <tr style=\"text-align: right;\">\n      <th></th>\n      <th>name</th>\n      <th>address</th>\n      <th>type</th>\n      <th>location</th>\n      <th>window_tim</th>\n      <th>window_t_1</th>\n      <th>group_ids</th>\n      <th>group_name</th>\n      <th>category</th>\n      <th>geofence_c</th>\n      <th>...</th>\n      <th>barangay</th>\n      <th>municipali</th>\n      <th>province</th>\n      <th>region</th>\n      <th>created</th>\n      <th>modified</th>\n      <th>client_ids</th>\n      <th>client_nam</th>\n      <th>store_code</th>\n      <th>geometry</th>\n    </tr>\n  </thead>\n  <tbody>\n    <tr>\n      <th>0</th>\n      <td>City Supermarket - Market Square</td>\n      <td>Inside CSI Market Square, Downtown District, D...</td>\n      <td>rectangle</td>\n      <td>{'lat': 16.043410180944765, 'lon': 120.3362203...</td>\n      <td>1990-12-12 00:00:00</td>\n      <td>1990-12-12 01:00:00</td>\n      <td>[343, 30]</td>\n      <td>['Nestle', 'Webcast']</td>\n      <td>Pickup/Dropoff</td>\n      <td>PHEC0000343131</td>\n      <td>...</td>\n      <td>Barangay II (Nueva)</td>\n      <td>DAGUPAN CITY</td>\n      <td>PANGASINAN</td>\n      <td>REGION I (ILOCOS REGION)</td>\n      <td>2020/06/10 10:42:55.000</td>\n      <td>2020/09/10 07:09:45.000</td>\n      <td>None</td>\n      <td>None</td>\n      <td>NaN</td>\n      <td>POLYGON ((120.33711 16.04253, 120.33533 16.042...</td>\n    </tr>\n    <tr>\n      <th>1</th>\n      <td>Puregold Price Club - Agora</td>\n      <td>1 N Domingo St.Cor F Blumentritt, Pedro Cruz, ...</td>\n      <td>polygon</td>\n      <td>{'lat': 14.605119723980204, 'lon': 121.0232510...</td>\n      <td>1990-12-12 00:00:00</td>\n      <td>1990-12-12 01:00:00</td>\n      <td>[343, 30]</td>\n      <td>['Nestle', 'Webcast']</td>\n      <td>Pickup/Dropoff</td>\n      <td>PHEC0002174857</td>\n      <td>...</td>\n      <td>Pedro Cruz</td>\n      <td>CITY OF SAN JUAN</td>\n      <td>NCR, SECOND DISTRICT</td>\n      <td>NCR (NATIONAL CAPITAL REGION)</td>\n      <td>2020/06/10 10:43:47.000</td>\n      <td>2020/07/30 06:59:55.000</td>\n      <td>None</td>\n      <td>None</td>\n      <td>NaN</td>\n      <td>POLYGON ((121.02351 14.60612, 121.02432 14.605...</td>\n    </tr>\n    <tr>\n      <th>2</th>\n      <td>Ultra Mega Multi Sales - Kalookan</td>\n      <td>163 Teofilo Samson Ave, Caloocan, 1420 Metro M...</td>\n      <td>rectangle</td>\n      <td>{'lat': 14.739714110694091, 'lon': 121.0251580...</td>\n      <td>1990-12-12 00:00:00</td>\n      <td>1990-12-12 01:00:00</td>\n      <td>[343, 30]</td>\n      <td>['Nestle', 'Webcast']</td>\n      <td>Pickup/Dropoff</td>\n      <td>PHEC0002168891</td>\n      <td>...</td>\n      <td>Barangay 168</td>\n      <td>CALOOCAN CITY</td>\n      <td>NCR, THIRD DISTRICT</td>\n      <td>NCR (NATIONAL CAPITAL REGION)</td>\n      <td>2020/06/10 10:43:47.000</td>\n      <td>2020/09/10 04:53:41.000</td>\n      <td>None</td>\n      <td>None</td>\n      <td>NaN</td>\n      <td>POLYGON ((121.02558 14.73925, 121.02473 14.739...</td>\n    </tr>\n    <tr>\n      <th>3</th>\n      <td>Rustan's - Marikina</td>\n      <td>27 Royal Palm St, Marikina, 1800 Metro Manila,...</td>\n      <td>rectangle</td>\n      <td>{'lat': 14.6503079761005, 'lon': 121.116088176...</td>\n      <td>Invalid date</td>\n      <td>Invalid date</td>\n      <td>[343, 30]</td>\n      <td>['Nestle', 'Webcast']</td>\n      <td>Pickup/Dropoff</td>\n      <td>PHEC0002598218</td>\n      <td>...</td>\n      <td>Marikina Heights (Concepcion)</td>\n      <td>CITY OF MARIKINA</td>\n      <td>NCR, SECOND DISTRICT</td>\n      <td>NCR (NATIONAL CAPITAL REGION)</td>\n      <td>2020/06/10 10:43:55.000</td>\n      <td>2020/08/20 04:21:18.000</td>\n      <td>None</td>\n      <td>None</td>\n      <td>NaN</td>\n      <td>POLYGON ((121.11639 14.65008, 121.11579 14.650...</td>\n    </tr>\n    <tr>\n      <th>4</th>\n      <td>Rustan's - Fairview</td>\n      <td>6 General Aguinaldo Ave, Cubao, Quezon City, 1...</td>\n      <td>polygon</td>\n      <td>{'lat': 14.622015808686214, 'lon': 121.0535702...</td>\n      <td>Invalid date</td>\n      <td>Invalid date</td>\n      <td>[343, 30]</td>\n      <td>['Nestle', 'Webcast']</td>\n      <td>Pickup/Dropoff</td>\n      <td>PHEC0002578706</td>\n      <td>...</td>\n      <td>Socorro</td>\n      <td>QUEZON CITY</td>\n      <td>NCR, SECOND DISTRICT</td>\n      <td>NCR (NATIONAL CAPITAL REGION)</td>\n      <td>2020/06/10 10:43:51.000</td>\n      <td>2020/08/20 04:14:16.000</td>\n      <td>None</td>\n      <td>None</td>\n      <td>NaN</td>\n      <td>POLYGON ((121.05288 14.62244, 121.05419 14.622...</td>\n    </tr>\n  </tbody>\n</table>\n<p>5 rows × 23 columns</p>\n</div>"
     },
     "metadata": {},
     "execution_count": 2
    }
   ],
   "source": [
    "#load geofence\n",
    "zipfile = \"TMSUITE-Geofences-asof-0429 SHP.zip\"\n",
    "geofences = gpd.read_file(zipfile)\n",
    "geofences.head()"
   ]
  },
  {
   "cell_type": "code",
   "execution_count": 3,
   "metadata": {},
   "outputs": [
    {
     "output_type": "execute_result",
     "data": {
      "text/plain": [
       "               created  plateno   longitude   latitude  \\\n",
       "0  2021-03-09 13:30:57   WQC386  125.532698  11.193735   \n",
       "1  2021-03-09 13:32:22  KAD4602  124.758065   8.520773   \n",
       "2  2021-03-09 13:29:23  KAD4602  124.758065   8.520773   \n",
       "3  2021-03-01 09:06:31   WQC386  124.607978  11.010027   \n",
       "4  2021-03-09 13:30:48   WQC386  125.533362  11.195668   \n",
       "\n",
       "                     geometry  \n",
       "0  POINT (125.53270 11.19374)  \n",
       "1   POINT (124.75807 8.52077)  \n",
       "2   POINT (124.75807 8.52077)  \n",
       "3  POINT (124.60798 11.01003)  \n",
       "4  POINT (125.53336 11.19567)  "
      ],
      "text/html": "<div>\n<style scoped>\n    .dataframe tbody tr th:only-of-type {\n        vertical-align: middle;\n    }\n\n    .dataframe tbody tr th {\n        vertical-align: top;\n    }\n\n    .dataframe thead th {\n        text-align: right;\n    }\n</style>\n<table border=\"1\" class=\"dataframe\">\n  <thead>\n    <tr style=\"text-align: right;\">\n      <th></th>\n      <th>created</th>\n      <th>plateno</th>\n      <th>longitude</th>\n      <th>latitude</th>\n      <th>geometry</th>\n    </tr>\n  </thead>\n  <tbody>\n    <tr>\n      <th>0</th>\n      <td>2021-03-09 13:30:57</td>\n      <td>WQC386</td>\n      <td>125.532698</td>\n      <td>11.193735</td>\n      <td>POINT (125.53270 11.19374)</td>\n    </tr>\n    <tr>\n      <th>1</th>\n      <td>2021-03-09 13:32:22</td>\n      <td>KAD4602</td>\n      <td>124.758065</td>\n      <td>8.520773</td>\n      <td>POINT (124.75807 8.52077)</td>\n    </tr>\n    <tr>\n      <th>2</th>\n      <td>2021-03-09 13:29:23</td>\n      <td>KAD4602</td>\n      <td>124.758065</td>\n      <td>8.520773</td>\n      <td>POINT (124.75807 8.52077)</td>\n    </tr>\n    <tr>\n      <th>3</th>\n      <td>2021-03-01 09:06:31</td>\n      <td>WQC386</td>\n      <td>124.607978</td>\n      <td>11.010027</td>\n      <td>POINT (124.60798 11.01003)</td>\n    </tr>\n    <tr>\n      <th>4</th>\n      <td>2021-03-09 13:30:48</td>\n      <td>WQC386</td>\n      <td>125.533362</td>\n      <td>11.195668</td>\n      <td>POINT (125.53336 11.19567)</td>\n    </tr>\n  </tbody>\n</table>\n</div>"
     },
     "metadata": {},
     "execution_count": 3
    }
   ],
   "source": [
    "## load data\n",
    "gps_points = pd.read_csv('Nestle_March_Kodigo_GPS-Formatted.csv')\n",
    "gps_points = gpd.GeoDataFrame(gps_points, geometry=gpd.points_from_xy(gps_points['longitude'], gps_points['latitude']))\n",
    "gps_points.head()"
   ]
  },
  {
   "cell_type": "code",
   "execution_count": 4,
   "metadata": {},
   "outputs": [
    {
     "output_type": "execute_result",
     "data": {
      "text/plain": [
       "                    created  plateno   longitude   latitude  \\\n",
       "0       2021-03-09 13:30:57   WQC386  125.532698  11.193735   \n",
       "1       2021-03-09 13:32:22  KAD4602  124.758065   8.520773   \n",
       "2       2021-03-09 13:29:23  KAD4602  124.758065   8.520773   \n",
       "3       2021-03-01 09:06:31   WQC386  124.607978  11.010027   \n",
       "4       2021-03-09 13:30:48   WQC386  125.533362  11.195668   \n",
       "...                     ...      ...         ...        ...   \n",
       "149994  2021-03-21 09:18:06  KAD4602  124.650352   8.478460   \n",
       "149995  2021-03-21 09:22:51  ABK1494  121.130035  14.206833   \n",
       "149996  2021-03-21 09:23:03  KAD4602  124.650352   8.478460   \n",
       "149997  2021-03-21 09:22:03   WQC386  123.925433  10.368815   \n",
       "149998  2021-03-21 09:20:06  KAD4602  124.650352   8.478460   \n",
       "\n",
       "                          geometry  \n",
       "0       POINT (125.53270 11.19374)  \n",
       "1        POINT (124.75807 8.52077)  \n",
       "2        POINT (124.75807 8.52077)  \n",
       "3       POINT (124.60798 11.01003)  \n",
       "4       POINT (125.53336 11.19567)  \n",
       "...                            ...  \n",
       "149994   POINT (124.65035 8.47846)  \n",
       "149995  POINT (121.13004 14.20683)  \n",
       "149996   POINT (124.65035 8.47846)  \n",
       "149997  POINT (123.92543 10.36881)  \n",
       "149998   POINT (124.65035 8.47846)  \n",
       "\n",
       "[149999 rows x 5 columns]"
      ],
      "text/html": "<div>\n<style scoped>\n    .dataframe tbody tr th:only-of-type {\n        vertical-align: middle;\n    }\n\n    .dataframe tbody tr th {\n        vertical-align: top;\n    }\n\n    .dataframe thead th {\n        text-align: right;\n    }\n</style>\n<table border=\"1\" class=\"dataframe\">\n  <thead>\n    <tr style=\"text-align: right;\">\n      <th></th>\n      <th>created</th>\n      <th>plateno</th>\n      <th>longitude</th>\n      <th>latitude</th>\n      <th>geometry</th>\n    </tr>\n  </thead>\n  <tbody>\n    <tr>\n      <th>0</th>\n      <td>2021-03-09 13:30:57</td>\n      <td>WQC386</td>\n      <td>125.532698</td>\n      <td>11.193735</td>\n      <td>POINT (125.53270 11.19374)</td>\n    </tr>\n    <tr>\n      <th>1</th>\n      <td>2021-03-09 13:32:22</td>\n      <td>KAD4602</td>\n      <td>124.758065</td>\n      <td>8.520773</td>\n      <td>POINT (124.75807 8.52077)</td>\n    </tr>\n    <tr>\n      <th>2</th>\n      <td>2021-03-09 13:29:23</td>\n      <td>KAD4602</td>\n      <td>124.758065</td>\n      <td>8.520773</td>\n      <td>POINT (124.75807 8.52077)</td>\n    </tr>\n    <tr>\n      <th>3</th>\n      <td>2021-03-01 09:06:31</td>\n      <td>WQC386</td>\n      <td>124.607978</td>\n      <td>11.010027</td>\n      <td>POINT (124.60798 11.01003)</td>\n    </tr>\n    <tr>\n      <th>4</th>\n      <td>2021-03-09 13:30:48</td>\n      <td>WQC386</td>\n      <td>125.533362</td>\n      <td>11.195668</td>\n      <td>POINT (125.53336 11.19567)</td>\n    </tr>\n    <tr>\n      <th>...</th>\n      <td>...</td>\n      <td>...</td>\n      <td>...</td>\n      <td>...</td>\n      <td>...</td>\n    </tr>\n    <tr>\n      <th>149994</th>\n      <td>2021-03-21 09:18:06</td>\n      <td>KAD4602</td>\n      <td>124.650352</td>\n      <td>8.478460</td>\n      <td>POINT (124.65035 8.47846)</td>\n    </tr>\n    <tr>\n      <th>149995</th>\n      <td>2021-03-21 09:22:51</td>\n      <td>ABK1494</td>\n      <td>121.130035</td>\n      <td>14.206833</td>\n      <td>POINT (121.13004 14.20683)</td>\n    </tr>\n    <tr>\n      <th>149996</th>\n      <td>2021-03-21 09:23:03</td>\n      <td>KAD4602</td>\n      <td>124.650352</td>\n      <td>8.478460</td>\n      <td>POINT (124.65035 8.47846)</td>\n    </tr>\n    <tr>\n      <th>149997</th>\n      <td>2021-03-21 09:22:03</td>\n      <td>WQC386</td>\n      <td>123.925433</td>\n      <td>10.368815</td>\n      <td>POINT (123.92543 10.36881)</td>\n    </tr>\n    <tr>\n      <th>149998</th>\n      <td>2021-03-21 09:20:06</td>\n      <td>KAD4602</td>\n      <td>124.650352</td>\n      <td>8.478460</td>\n      <td>POINT (124.65035 8.47846)</td>\n    </tr>\n  </tbody>\n</table>\n<p>149999 rows × 5 columns</p>\n</div>"
     },
     "metadata": {},
     "execution_count": 4
    }
   ],
   "source": [
    "gps_points.set_crs(epsg=4326, inplace=True)"
   ]
  },
  {
   "cell_type": "code",
   "execution_count": 5,
   "metadata": {},
   "outputs": [
    {
     "output_type": "stream",
     "name": "stdout",
     "text": [
      "epsg:4326\nepsg:4326\n"
     ]
    }
   ],
   "source": [
    "#make sure they have the same coordinate reference system\n",
    "print(gps_points.crs)\n",
    "print(geofences.crs)"
   ]
  },
  {
   "cell_type": "code",
   "execution_count": 6,
   "metadata": {},
   "outputs": [],
   "source": [
    "### Spatial join\n",
    "points_inside_geofence = gpd.sjoin(gps_points, geofences, how = 'inner', op = 'within')"
   ]
  },
  {
   "cell_type": "code",
   "execution_count": 7,
   "metadata": {},
   "outputs": [],
   "source": [
    "points_inside_geofence = points_inside_geofence.loc[:, ['plateno', 'name','created_left']]\n",
    "points_inside_geofence = points_inside_geofence.rename(columns = {'name' :'geofence_name','created_left':'datestamp'})"
   ]
  },
  {
   "cell_type": "code",
   "execution_count": 8,
   "metadata": {},
   "outputs": [],
   "source": [
    "points_inside_geofence['datestamp'] = pd.to_datetime(points_inside_geofence['datestamp'])"
   ]
  },
  {
   "cell_type": "code",
   "execution_count": 9,
   "metadata": {},
   "outputs": [],
   "source": [
    "data = points_inside_geofence.sort_values(by = 'datestamp')"
   ]
  },
  {
   "source": [
    "## Generate CICO"
   ],
   "cell_type": "markdown",
   "metadata": {}
  },
  {
   "cell_type": "code",
   "execution_count": 10,
   "metadata": {},
   "outputs": [
    {
     "output_type": "execute_result",
     "data": {
      "text/plain": [
       "plateno                  object\n",
       "geofence_name            object\n",
       "datestamp        datetime64[ns]\n",
       "dtype: object"
      ]
     },
     "metadata": {},
     "execution_count": 10
    }
   ],
   "source": [
    "data['datestamp'] = pd.to_datetime(data['datestamp'])\n",
    "data.dtypes"
   ]
  },
  {
   "cell_type": "code",
   "execution_count": 11,
   "metadata": {},
   "outputs": [],
   "source": [
    "data['track_period'] = data['datestamp'].dt.floor('30T')"
   ]
  },
  {
   "cell_type": "code",
   "execution_count": 12,
   "metadata": {},
   "outputs": [],
   "source": [
    "data['time_start'] = data.groupby(['plateno','geofence_name','track_period']).transform('min')\n",
    "data['time_end'] = data.groupby(['plateno','geofence_name','track_period']).transform('max')['datestamp']\n",
    "data['count'] = data.groupby(['plateno','geofence_name','track_period']).transform('count')['datestamp']\n",
    "data['duration'] = (data['time_end'] - data['time_start']).dt.total_seconds()\n"
   ]
  },
  {
   "cell_type": "code",
   "execution_count": 13,
   "metadata": {},
   "outputs": [],
   "source": [
    "data = data.loc[(data['count'] > 5) & (data['duration'] > 300), :]\n",
    "data = data.sort_values(by = ['plateno','geofence_name','track_period'])\n",
    "data = data.loc[:, ['plateno','geofence_name','track_period','time_start','time_end','duration','count']]"
   ]
  },
  {
   "cell_type": "code",
   "execution_count": 14,
   "metadata": {},
   "outputs": [],
   "source": [
    "data.drop_duplicates(inplace = True)\n",
    "data = data.sort_values(by = ['plateno','track_period'])\n",
    "data = data.sort_values(by = ['plateno','geofence_name'])"
   ]
  },
  {
   "cell_type": "code",
   "execution_count": 15,
   "metadata": {},
   "outputs": [],
   "source": [
    "data['time_end_prev_loc'] = data.groupby(['plateno','geofence_name'])['time_end'].shift(1)\n",
    "data['time_start_next_loc'] = data.groupby(['plateno','geofence_name'])['time_start'].shift(-1)\n"
   ]
  },
  {
   "cell_type": "code",
   "execution_count": 16,
   "metadata": {},
   "outputs": [],
   "source": [
    "data['time_diff_next_loc'] = (data['time_start_next_loc'] - data['time_end']).dt.total_seconds()\n",
    "data['time_diff_prev_loc'] = (data['time_start'] - data['time_end_prev_loc']).dt.total_seconds()"
   ]
  },
  {
   "cell_type": "code",
   "execution_count": 17,
   "metadata": {},
   "outputs": [],
   "source": [
    "data['continue_next_loc']= data['time_diff_next_loc'] < 300\n",
    "data['continue_prev_loc'] = data['time_diff_prev_loc'] < 300\n",
    "data['continuing'] = data['continue_prev_loc'] & data['continue_next_loc']"
   ]
  },
  {
   "cell_type": "code",
   "execution_count": 18,
   "metadata": {},
   "outputs": [],
   "source": [
    "data = data.loc[(data['continuing'] == False), :]"
   ]
  },
  {
   "cell_type": "code",
   "execution_count": 19,
   "metadata": {},
   "outputs": [],
   "source": [
    "data['lead_time_diff_prev_loc'] = data.groupby(['plateno','geofence_name'])['time_diff_prev_loc'].shift(-1)\n",
    "data['lead_time_end'] = data.groupby(['plateno','geofence_name'])['time_end'].shift(-1)"
   ]
  },
  {
   "cell_type": "code",
   "execution_count": 20,
   "metadata": {},
   "outputs": [],
   "source": [
    "c1 = data['time_end_prev_loc'].isnull()\n",
    "c2 = data['lead_time_diff_prev_loc'] < 300\n",
    "c3 = data['time_diff_next_loc'] <= 300\n",
    "\n",
    "condition = ((c1 | c2) & c3)\n",
    "\n",
    "data['actual_time_end'] = np.where(condition, data['lead_time_end'], data['time_end'])"
   ]
  },
  {
   "cell_type": "code",
   "execution_count": 21,
   "metadata": {},
   "outputs": [],
   "source": [
    "data['actual_time_end'] = np.where(data['time_diff_next_loc'].isnull(), data['time_end'], data['actual_time_end'])"
   ]
  },
  {
   "cell_type": "code",
   "execution_count": 22,
   "metadata": {},
   "outputs": [],
   "source": [
    "data = data.loc[data['actual_time_end'].notnull(),:]\n",
    "data = data.loc[:, ['plateno','geofence_name','time_start','actual_time_end']]"
   ]
  },
  {
   "cell_type": "code",
   "execution_count": 23,
   "metadata": {},
   "outputs": [],
   "source": [
    "data['duration'] = (data['actual_time_end'] - data['time_start']).dt.total_seconds()"
   ]
  },
  {
   "cell_type": "code",
   "execution_count": 24,
   "metadata": {},
   "outputs": [],
   "source": [
    "data['ranking'] = data.groupby(['plateno','geofence_name','actual_time_end'])['duration'].rank(ascending = False)"
   ]
  },
  {
   "cell_type": "code",
   "execution_count": 25,
   "metadata": {},
   "outputs": [],
   "source": [
    "data = data.loc[data['ranking'] != 2, :]"
   ]
  },
  {
   "cell_type": "code",
   "execution_count": 26,
   "metadata": {},
   "outputs": [],
   "source": [
    "data = data.loc[:, ['plateno','geofence_name','time_start','actual_time_end','duration']]"
   ]
  },
  {
   "cell_type": "code",
   "execution_count": 27,
   "metadata": {},
   "outputs": [],
   "source": [
    "data = data.rename(columns= {'time_start':'datestamp_entry', 'actual_time_end': 'datestamp_left','duration' : 'dwell_time'}).reset_index(drop=True)"
   ]
  },
  {
   "cell_type": "code",
   "execution_count": 28,
   "metadata": {},
   "outputs": [],
   "source": [
    "data = data.sort_values(by = 'datestamp_entry').reset_index(drop=True)"
   ]
  },
  {
   "cell_type": "code",
   "execution_count": 29,
   "metadata": {},
   "outputs": [],
   "source": [
    "data['dwell_time_hms'] = pd.to_datetime(data['dwell_time'], unit='s').dt.strftime(\"%H:%M:%S\")"
   ]
  },
  {
   "source": [
    "### Normalizing CICO"
   ],
   "cell_type": "markdown",
   "metadata": {}
  },
  {
   "cell_type": "code",
   "execution_count": 57,
   "metadata": {},
   "outputs": [],
   "source": [
    "data = data.sort_values(by = ['plateno', 'datestamp_entry', 'geofence_name'])"
   ]
  },
  {
   "cell_type": "code",
   "execution_count": 58,
   "metadata": {},
   "outputs": [
    {
     "output_type": "execute_result",
     "data": {
      "text/plain": [
       "     plateno                       geofence_name     datestamp_entry  \\\n",
       "0    ABK1494  BICOL EXCL'T SLS & TRADING-CALAMBA 2021-03-01 00:00:58   \n",
       "5    ABK1494     PH Batino Grocery - Destination 2021-03-01 07:34:01   \n",
       "4    ABK1494          PH Batino Grocery - Source 2021-03-01 07:34:01   \n",
       "16   ABK1494  BICOL EXCL'T SLS & TRADING-CALAMBA 2021-03-01 16:32:11   \n",
       "21   ABK1494     PUREGOLD PRICE CLUB - PARIAN JR 2021-03-02 03:32:06   \n",
       "..       ...                                 ...                 ...   \n",
       "471   WQC386    PH Mandaue Grocery - Destination 2021-03-18 21:51:05   \n",
       "472   WQC386         PH Mandaue Grocery - Source 2021-03-18 21:52:06   \n",
       "507   WQC386       Puregold Price Club - Kananga 2021-03-20 01:43:11   \n",
       "545   WQC386    PH Mandaue Grocery - Destination 2021-03-21 08:38:04   \n",
       "547   WQC386         PH Mandaue Grocery - Source 2021-03-21 09:33:40   \n",
       "\n",
       "         datestamp_left  dwell_time dwell_time_hms  prev_match  next_match  \\\n",
       "0   2021-03-01 07:27:49     26811.0       07:26:51       False       False   \n",
       "5   2021-03-01 16:16:45     31364.0       08:42:44       False       False   \n",
       "4   2021-03-01 16:16:45     31364.0       08:42:44       False       False   \n",
       "16  2021-03-02 03:47:18     40507.0       11:15:07       False       False   \n",
       "21  2021-03-02 03:43:09       663.0       00:11:03       False       False   \n",
       "..                  ...         ...            ...         ...         ...   \n",
       "471 2021-03-19 03:06:32     18927.0       05:15:27       False       False   \n",
       "472 2021-03-19 02:59:58     18472.0       05:07:52       False       False   \n",
       "507 2021-03-20 12:24:49     38498.0       10:41:38       False       False   \n",
       "545 2021-03-21 10:59:59      8515.0       02:21:55       False       False   \n",
       "547 2021-03-21 10:59:59      5179.0       01:26:19       False       False   \n",
       "\n",
       "     continuing  \n",
       "0             0  \n",
       "5             0  \n",
       "4             0  \n",
       "16            0  \n",
       "21            0  \n",
       "..          ...  \n",
       "471           0  \n",
       "472           0  \n",
       "507           0  \n",
       "545           0  \n",
       "547           0  \n",
       "\n",
       "[818 rows x 9 columns]"
      ],
      "text/html": "<div>\n<style scoped>\n    .dataframe tbody tr th:only-of-type {\n        vertical-align: middle;\n    }\n\n    .dataframe tbody tr th {\n        vertical-align: top;\n    }\n\n    .dataframe thead th {\n        text-align: right;\n    }\n</style>\n<table border=\"1\" class=\"dataframe\">\n  <thead>\n    <tr style=\"text-align: right;\">\n      <th></th>\n      <th>plateno</th>\n      <th>geofence_name</th>\n      <th>datestamp_entry</th>\n      <th>datestamp_left</th>\n      <th>dwell_time</th>\n      <th>dwell_time_hms</th>\n      <th>prev_match</th>\n      <th>next_match</th>\n      <th>continuing</th>\n    </tr>\n  </thead>\n  <tbody>\n    <tr>\n      <th>0</th>\n      <td>ABK1494</td>\n      <td>BICOL EXCL'T SLS &amp; TRADING-CALAMBA</td>\n      <td>2021-03-01 00:00:58</td>\n      <td>2021-03-01 07:27:49</td>\n      <td>26811.0</td>\n      <td>07:26:51</td>\n      <td>False</td>\n      <td>False</td>\n      <td>0</td>\n    </tr>\n    <tr>\n      <th>5</th>\n      <td>ABK1494</td>\n      <td>PH Batino Grocery - Destination</td>\n      <td>2021-03-01 07:34:01</td>\n      <td>2021-03-01 16:16:45</td>\n      <td>31364.0</td>\n      <td>08:42:44</td>\n      <td>False</td>\n      <td>False</td>\n      <td>0</td>\n    </tr>\n    <tr>\n      <th>4</th>\n      <td>ABK1494</td>\n      <td>PH Batino Grocery - Source</td>\n      <td>2021-03-01 07:34:01</td>\n      <td>2021-03-01 16:16:45</td>\n      <td>31364.0</td>\n      <td>08:42:44</td>\n      <td>False</td>\n      <td>False</td>\n      <td>0</td>\n    </tr>\n    <tr>\n      <th>16</th>\n      <td>ABK1494</td>\n      <td>BICOL EXCL'T SLS &amp; TRADING-CALAMBA</td>\n      <td>2021-03-01 16:32:11</td>\n      <td>2021-03-02 03:47:18</td>\n      <td>40507.0</td>\n      <td>11:15:07</td>\n      <td>False</td>\n      <td>False</td>\n      <td>0</td>\n    </tr>\n    <tr>\n      <th>21</th>\n      <td>ABK1494</td>\n      <td>PUREGOLD PRICE CLUB - PARIAN JR</td>\n      <td>2021-03-02 03:32:06</td>\n      <td>2021-03-02 03:43:09</td>\n      <td>663.0</td>\n      <td>00:11:03</td>\n      <td>False</td>\n      <td>False</td>\n      <td>0</td>\n    </tr>\n    <tr>\n      <th>...</th>\n      <td>...</td>\n      <td>...</td>\n      <td>...</td>\n      <td>...</td>\n      <td>...</td>\n      <td>...</td>\n      <td>...</td>\n      <td>...</td>\n      <td>...</td>\n    </tr>\n    <tr>\n      <th>471</th>\n      <td>WQC386</td>\n      <td>PH Mandaue Grocery - Destination</td>\n      <td>2021-03-18 21:51:05</td>\n      <td>2021-03-19 03:06:32</td>\n      <td>18927.0</td>\n      <td>05:15:27</td>\n      <td>False</td>\n      <td>False</td>\n      <td>0</td>\n    </tr>\n    <tr>\n      <th>472</th>\n      <td>WQC386</td>\n      <td>PH Mandaue Grocery - Source</td>\n      <td>2021-03-18 21:52:06</td>\n      <td>2021-03-19 02:59:58</td>\n      <td>18472.0</td>\n      <td>05:07:52</td>\n      <td>False</td>\n      <td>False</td>\n      <td>0</td>\n    </tr>\n    <tr>\n      <th>507</th>\n      <td>WQC386</td>\n      <td>Puregold Price Club - Kananga</td>\n      <td>2021-03-20 01:43:11</td>\n      <td>2021-03-20 12:24:49</td>\n      <td>38498.0</td>\n      <td>10:41:38</td>\n      <td>False</td>\n      <td>False</td>\n      <td>0</td>\n    </tr>\n    <tr>\n      <th>545</th>\n      <td>WQC386</td>\n      <td>PH Mandaue Grocery - Destination</td>\n      <td>2021-03-21 08:38:04</td>\n      <td>2021-03-21 10:59:59</td>\n      <td>8515.0</td>\n      <td>02:21:55</td>\n      <td>False</td>\n      <td>False</td>\n      <td>0</td>\n    </tr>\n    <tr>\n      <th>547</th>\n      <td>WQC386</td>\n      <td>PH Mandaue Grocery - Source</td>\n      <td>2021-03-21 09:33:40</td>\n      <td>2021-03-21 10:59:59</td>\n      <td>5179.0</td>\n      <td>01:26:19</td>\n      <td>False</td>\n      <td>False</td>\n      <td>0</td>\n    </tr>\n  </tbody>\n</table>\n<p>818 rows × 9 columns</p>\n</div>"
     },
     "metadata": {},
     "execution_count": 58
    }
   ],
   "source": [
    "data['prev_match'] = data['geofence_name'].eq(data['geofence_name'].shift(1))\n",
    "data['next_match'] = data['geofence_name'].eq(data['geofence_name'].shift(-1))\n",
    "data['continuing'] = np.where((data['prev_match']) & (data['next_match']), 1, 0)\n",
    "\n",
    "data"
   ]
  },
  {
   "cell_type": "code",
   "execution_count": 59,
   "metadata": {},
   "outputs": [],
   "source": [
    "data = data.loc[:, ['plateno', 'geofence_name','datestamp_entry', 'datestamp_left', 'dwell_time','dwell_time_hms', 'continuing']]\n",
    "data = data.loc[data['continuing'] == 0]"
   ]
  },
  {
   "cell_type": "code",
   "execution_count": 60,
   "metadata": {},
   "outputs": [],
   "source": [
    "data['has_same_next'] =  np.where(data['geofence_name'].eq(data['geofence_name'].shift(-1)), 1, 0)"
   ]
  },
  {
   "cell_type": "code",
   "execution_count": 61,
   "metadata": {},
   "outputs": [
    {
     "output_type": "execute_result",
     "data": {
      "text/plain": [
       "     plateno                       geofence_name     datestamp_entry  \\\n",
       "0    ABK1494  BICOL EXCL'T SLS & TRADING-CALAMBA 2021-03-01 00:00:58   \n",
       "5    ABK1494     PH Batino Grocery - Destination 2021-03-01 07:34:01   \n",
       "4    ABK1494          PH Batino Grocery - Source 2021-03-01 07:34:01   \n",
       "16   ABK1494  BICOL EXCL'T SLS & TRADING-CALAMBA 2021-03-01 16:32:11   \n",
       "21   ABK1494     PUREGOLD PRICE CLUB - PARIAN JR 2021-03-02 03:32:06   \n",
       "..       ...                                 ...                 ...   \n",
       "471   WQC386    PH Mandaue Grocery - Destination 2021-03-18 21:51:05   \n",
       "472   WQC386         PH Mandaue Grocery - Source 2021-03-18 21:52:06   \n",
       "507   WQC386       Puregold Price Club - Kananga 2021-03-20 01:43:11   \n",
       "545   WQC386    PH Mandaue Grocery - Destination 2021-03-21 08:38:04   \n",
       "547   WQC386         PH Mandaue Grocery - Source 2021-03-21 09:33:40   \n",
       "\n",
       "         datestamp_left  dwell_time dwell_time_hms  continuing  has_same_next  \n",
       "0   2021-03-01 07:27:49     26811.0       07:26:51           0              0  \n",
       "5   2021-03-01 16:16:45     31364.0       08:42:44           0              0  \n",
       "4   2021-03-01 16:16:45     31364.0       08:42:44           0              0  \n",
       "16  2021-03-02 03:47:18     40507.0       11:15:07           0              0  \n",
       "21  2021-03-02 03:43:09       663.0       00:11:03           0              0  \n",
       "..                  ...         ...            ...         ...            ...  \n",
       "471 2021-03-19 03:06:32     18927.0       05:15:27           0              0  \n",
       "472 2021-03-19 02:59:58     18472.0       05:07:52           0              0  \n",
       "507 2021-03-20 12:24:49     38498.0       10:41:38           0              0  \n",
       "545 2021-03-21 10:59:59      8515.0       02:21:55           0              0  \n",
       "547 2021-03-21 10:59:59      5179.0       01:26:19           0              0  \n",
       "\n",
       "[518 rows x 8 columns]"
      ],
      "text/html": "<div>\n<style scoped>\n    .dataframe tbody tr th:only-of-type {\n        vertical-align: middle;\n    }\n\n    .dataframe tbody tr th {\n        vertical-align: top;\n    }\n\n    .dataframe thead th {\n        text-align: right;\n    }\n</style>\n<table border=\"1\" class=\"dataframe\">\n  <thead>\n    <tr style=\"text-align: right;\">\n      <th></th>\n      <th>plateno</th>\n      <th>geofence_name</th>\n      <th>datestamp_entry</th>\n      <th>datestamp_left</th>\n      <th>dwell_time</th>\n      <th>dwell_time_hms</th>\n      <th>continuing</th>\n      <th>has_same_next</th>\n    </tr>\n  </thead>\n  <tbody>\n    <tr>\n      <th>0</th>\n      <td>ABK1494</td>\n      <td>BICOL EXCL'T SLS &amp; TRADING-CALAMBA</td>\n      <td>2021-03-01 00:00:58</td>\n      <td>2021-03-01 07:27:49</td>\n      <td>26811.0</td>\n      <td>07:26:51</td>\n      <td>0</td>\n      <td>0</td>\n    </tr>\n    <tr>\n      <th>5</th>\n      <td>ABK1494</td>\n      <td>PH Batino Grocery - Destination</td>\n      <td>2021-03-01 07:34:01</td>\n      <td>2021-03-01 16:16:45</td>\n      <td>31364.0</td>\n      <td>08:42:44</td>\n      <td>0</td>\n      <td>0</td>\n    </tr>\n    <tr>\n      <th>4</th>\n      <td>ABK1494</td>\n      <td>PH Batino Grocery - Source</td>\n      <td>2021-03-01 07:34:01</td>\n      <td>2021-03-01 16:16:45</td>\n      <td>31364.0</td>\n      <td>08:42:44</td>\n      <td>0</td>\n      <td>0</td>\n    </tr>\n    <tr>\n      <th>16</th>\n      <td>ABK1494</td>\n      <td>BICOL EXCL'T SLS &amp; TRADING-CALAMBA</td>\n      <td>2021-03-01 16:32:11</td>\n      <td>2021-03-02 03:47:18</td>\n      <td>40507.0</td>\n      <td>11:15:07</td>\n      <td>0</td>\n      <td>0</td>\n    </tr>\n    <tr>\n      <th>21</th>\n      <td>ABK1494</td>\n      <td>PUREGOLD PRICE CLUB - PARIAN JR</td>\n      <td>2021-03-02 03:32:06</td>\n      <td>2021-03-02 03:43:09</td>\n      <td>663.0</td>\n      <td>00:11:03</td>\n      <td>0</td>\n      <td>0</td>\n    </tr>\n    <tr>\n      <th>...</th>\n      <td>...</td>\n      <td>...</td>\n      <td>...</td>\n      <td>...</td>\n      <td>...</td>\n      <td>...</td>\n      <td>...</td>\n      <td>...</td>\n    </tr>\n    <tr>\n      <th>471</th>\n      <td>WQC386</td>\n      <td>PH Mandaue Grocery - Destination</td>\n      <td>2021-03-18 21:51:05</td>\n      <td>2021-03-19 03:06:32</td>\n      <td>18927.0</td>\n      <td>05:15:27</td>\n      <td>0</td>\n      <td>0</td>\n    </tr>\n    <tr>\n      <th>472</th>\n      <td>WQC386</td>\n      <td>PH Mandaue Grocery - Source</td>\n      <td>2021-03-18 21:52:06</td>\n      <td>2021-03-19 02:59:58</td>\n      <td>18472.0</td>\n      <td>05:07:52</td>\n      <td>0</td>\n      <td>0</td>\n    </tr>\n    <tr>\n      <th>507</th>\n      <td>WQC386</td>\n      <td>Puregold Price Club - Kananga</td>\n      <td>2021-03-20 01:43:11</td>\n      <td>2021-03-20 12:24:49</td>\n      <td>38498.0</td>\n      <td>10:41:38</td>\n      <td>0</td>\n      <td>0</td>\n    </tr>\n    <tr>\n      <th>545</th>\n      <td>WQC386</td>\n      <td>PH Mandaue Grocery - Destination</td>\n      <td>2021-03-21 08:38:04</td>\n      <td>2021-03-21 10:59:59</td>\n      <td>8515.0</td>\n      <td>02:21:55</td>\n      <td>0</td>\n      <td>0</td>\n    </tr>\n    <tr>\n      <th>547</th>\n      <td>WQC386</td>\n      <td>PH Mandaue Grocery - Source</td>\n      <td>2021-03-21 09:33:40</td>\n      <td>2021-03-21 10:59:59</td>\n      <td>5179.0</td>\n      <td>01:26:19</td>\n      <td>0</td>\n      <td>0</td>\n    </tr>\n  </tbody>\n</table>\n<p>518 rows × 8 columns</p>\n</div>"
     },
     "metadata": {},
     "execution_count": 61
    }
   ],
   "source": [
    "data"
   ]
  },
  {
   "cell_type": "code",
   "execution_count": 62,
   "metadata": {},
   "outputs": [],
   "source": [
    "data['new_datestamp_left'] = np.where(data['has_same_next'] == 1, data['datestamp_left'].shift(-1), data['datestamp_left'])"
   ]
  },
  {
   "cell_type": "code",
   "execution_count": 63,
   "metadata": {},
   "outputs": [],
   "source": [
    "data['to_remove'] = data['has_same_next'].shift(1) == 1\n",
    "data = data.loc[data['to_remove'] == False, ['plateno', 'geofence_name', 'datestamp_entry','new_datestamp_left' ,'dwell_time', 'dwell_time_hms']]"
   ]
  },
  {
   "cell_type": "code",
   "execution_count": 64,
   "metadata": {},
   "outputs": [],
   "source": [
    "data.rename(columns= {'new_datestamp_left' :'datestamp_left'}, inplace=True)"
   ]
  },
  {
   "cell_type": "code",
   "execution_count": 65,
   "metadata": {},
   "outputs": [],
   "source": [
    "data['dwell_time'] = (data['datestamp_left'] - data['datestamp_entry']).dt.total_seconds()\n",
    "data['dwell_time_hms'] = pd.to_datetime(data['dwell_time'], unit='s').dt.strftime(\"%H:%M:%S\")\n",
    "data.reset_index(drop = True, inplace = True)"
   ]
  }
 ]
}