{
 "metadata": {
  "language_info": {
   "codemirror_mode": {
    "name": "ipython",
    "version": 3
   },
   "file_extension": ".py",
   "mimetype": "text/x-python",
   "name": "python",
   "nbconvert_exporter": "python",
   "pygments_lexer": "ipython3",
   "version": "3.9.0"
  },
  "orig_nbformat": 2,
  "kernelspec": {
   "name": "python390jvsc74a57bd0c538cf36d1368961783812db133503b5bcd381ebafab078933f492cb36ca4168",
   "display_name": "Python 3.9.0 64-bit"
  },
  "metadata": {
   "interpreter": {
    "hash": "c538cf36d1368961783812db133503b5bcd381ebafab078933f492cb36ca4168"
   }
  }
 },
 "nbformat": 4,
 "nbformat_minor": 2,
 "cells": [
  {
   "source": [
    "## Load libraries and data"
   ],
   "cell_type": "markdown",
   "metadata": {}
  },
  {
   "cell_type": "code",
   "execution_count": 32,
   "metadata": {},
   "outputs": [],
   "source": [
    "import pandas as pd \n",
    "import numpy as np\n",
    "import datetime\n",
    "import time\n",
    "import geopandas as gpd"
   ]
  },
  {
   "cell_type": "code",
   "execution_count": 33,
   "metadata": {},
   "outputs": [
    {
     "output_type": "execute_result",
     "data": {
      "text/plain": [
       "                                name  \\\n",
       "0   City Supermarket - Market Square   \n",
       "1        Puregold Price Club - Agora   \n",
       "2  Ultra Mega Multi Sales - Kalookan   \n",
       "3                Rustan's - Marikina   \n",
       "4                Rustan's - Fairview   \n",
       "\n",
       "                                             address       type  \\\n",
       "0  Inside CSI Market Square, Downtown District, D...  rectangle   \n",
       "1  1 N Domingo St.Cor F Blumentritt, Pedro Cruz, ...    polygon   \n",
       "2  163 Teofilo Samson Ave, Caloocan, 1420 Metro M...  rectangle   \n",
       "3  27 Royal Palm St, Marikina, 1800 Metro Manila,...  rectangle   \n",
       "4  6 General Aguinaldo Ave, Cubao, Quezon City, 1...    polygon   \n",
       "\n",
       "                                            location           window_tim  \\\n",
       "0  {'lat': 16.043410180944765, 'lon': 120.3362203...  1990-12-12 00:00:00   \n",
       "1  {'lat': 14.605119723980204, 'lon': 121.0232510...  1990-12-12 00:00:00   \n",
       "2  {'lat': 14.739714110694091, 'lon': 121.0251580...  1990-12-12 00:00:00   \n",
       "3  {'lat': 14.6503079761005, 'lon': 121.116088176...         Invalid date   \n",
       "4  {'lat': 14.622015808686214, 'lon': 121.0535702...         Invalid date   \n",
       "\n",
       "            window_t_1  group_ids             group_name        category  \\\n",
       "0  1990-12-12 01:00:00  [343, 30]  ['Nestle', 'Webcast']  Pickup/Dropoff   \n",
       "1  1990-12-12 01:00:00  [343, 30]  ['Nestle', 'Webcast']  Pickup/Dropoff   \n",
       "2  1990-12-12 01:00:00  [343, 30]  ['Nestle', 'Webcast']  Pickup/Dropoff   \n",
       "3         Invalid date  [343, 30]  ['Nestle', 'Webcast']  Pickup/Dropoff   \n",
       "4         Invalid date  [343, 30]  ['Nestle', 'Webcast']  Pickup/Dropoff   \n",
       "\n",
       "       geofence_c  ...                       barangay        municipali  \\\n",
       "0  PHEC0000343131  ...            Barangay II (Nueva)      DAGUPAN CITY   \n",
       "1  PHEC0002174857  ...                     Pedro Cruz  CITY OF SAN JUAN   \n",
       "2  PHEC0002168891  ...                   Barangay 168     CALOOCAN CITY   \n",
       "3  PHEC0002598218  ...  Marikina Heights (Concepcion)  CITY OF MARIKINA   \n",
       "4  PHEC0002578706  ...                        Socorro       QUEZON CITY   \n",
       "\n",
       "               province                         region  \\\n",
       "0            PANGASINAN       REGION I (ILOCOS REGION)   \n",
       "1  NCR, SECOND DISTRICT  NCR (NATIONAL CAPITAL REGION)   \n",
       "2   NCR, THIRD DISTRICT  NCR (NATIONAL CAPITAL REGION)   \n",
       "3  NCR, SECOND DISTRICT  NCR (NATIONAL CAPITAL REGION)   \n",
       "4  NCR, SECOND DISTRICT  NCR (NATIONAL CAPITAL REGION)   \n",
       "\n",
       "                   created                 modified client_ids client_nam  \\\n",
       "0  2020/06/10 10:42:55.000  2020/09/10 07:09:45.000       None       None   \n",
       "1  2020/06/10 10:43:47.000  2020/07/30 06:59:55.000       None       None   \n",
       "2  2020/06/10 10:43:47.000  2020/09/10 04:53:41.000       None       None   \n",
       "3  2020/06/10 10:43:55.000  2020/08/20 04:21:18.000       None       None   \n",
       "4  2020/06/10 10:43:51.000  2020/08/20 04:14:16.000       None       None   \n",
       "\n",
       "  store_code                                           geometry  \n",
       "0        NaN  POLYGON ((120.33711 16.04253, 120.33533 16.042...  \n",
       "1        NaN  POLYGON ((121.02351 14.60612, 121.02432 14.605...  \n",
       "2        NaN  POLYGON ((121.02558 14.73925, 121.02473 14.739...  \n",
       "3        NaN  POLYGON ((121.11639 14.65008, 121.11579 14.650...  \n",
       "4        NaN  POLYGON ((121.05288 14.62244, 121.05419 14.622...  \n",
       "\n",
       "[5 rows x 23 columns]"
      ],
      "text/html": "<div>\n<style scoped>\n    .dataframe tbody tr th:only-of-type {\n        vertical-align: middle;\n    }\n\n    .dataframe tbody tr th {\n        vertical-align: top;\n    }\n\n    .dataframe thead th {\n        text-align: right;\n    }\n</style>\n<table border=\"1\" class=\"dataframe\">\n  <thead>\n    <tr style=\"text-align: right;\">\n      <th></th>\n      <th>name</th>\n      <th>address</th>\n      <th>type</th>\n      <th>location</th>\n      <th>window_tim</th>\n      <th>window_t_1</th>\n      <th>group_ids</th>\n      <th>group_name</th>\n      <th>category</th>\n      <th>geofence_c</th>\n      <th>...</th>\n      <th>barangay</th>\n      <th>municipali</th>\n      <th>province</th>\n      <th>region</th>\n      <th>created</th>\n      <th>modified</th>\n      <th>client_ids</th>\n      <th>client_nam</th>\n      <th>store_code</th>\n      <th>geometry</th>\n    </tr>\n  </thead>\n  <tbody>\n    <tr>\n      <th>0</th>\n      <td>City Supermarket - Market Square</td>\n      <td>Inside CSI Market Square, Downtown District, D...</td>\n      <td>rectangle</td>\n      <td>{'lat': 16.043410180944765, 'lon': 120.3362203...</td>\n      <td>1990-12-12 00:00:00</td>\n      <td>1990-12-12 01:00:00</td>\n      <td>[343, 30]</td>\n      <td>['Nestle', 'Webcast']</td>\n      <td>Pickup/Dropoff</td>\n      <td>PHEC0000343131</td>\n      <td>...</td>\n      <td>Barangay II (Nueva)</td>\n      <td>DAGUPAN CITY</td>\n      <td>PANGASINAN</td>\n      <td>REGION I (ILOCOS REGION)</td>\n      <td>2020/06/10 10:42:55.000</td>\n      <td>2020/09/10 07:09:45.000</td>\n      <td>None</td>\n      <td>None</td>\n      <td>NaN</td>\n      <td>POLYGON ((120.33711 16.04253, 120.33533 16.042...</td>\n    </tr>\n    <tr>\n      <th>1</th>\n      <td>Puregold Price Club - Agora</td>\n      <td>1 N Domingo St.Cor F Blumentritt, Pedro Cruz, ...</td>\n      <td>polygon</td>\n      <td>{'lat': 14.605119723980204, 'lon': 121.0232510...</td>\n      <td>1990-12-12 00:00:00</td>\n      <td>1990-12-12 01:00:00</td>\n      <td>[343, 30]</td>\n      <td>['Nestle', 'Webcast']</td>\n      <td>Pickup/Dropoff</td>\n      <td>PHEC0002174857</td>\n      <td>...</td>\n      <td>Pedro Cruz</td>\n      <td>CITY OF SAN JUAN</td>\n      <td>NCR, SECOND DISTRICT</td>\n      <td>NCR (NATIONAL CAPITAL REGION)</td>\n      <td>2020/06/10 10:43:47.000</td>\n      <td>2020/07/30 06:59:55.000</td>\n      <td>None</td>\n      <td>None</td>\n      <td>NaN</td>\n      <td>POLYGON ((121.02351 14.60612, 121.02432 14.605...</td>\n    </tr>\n    <tr>\n      <th>2</th>\n      <td>Ultra Mega Multi Sales - Kalookan</td>\n      <td>163 Teofilo Samson Ave, Caloocan, 1420 Metro M...</td>\n      <td>rectangle</td>\n      <td>{'lat': 14.739714110694091, 'lon': 121.0251580...</td>\n      <td>1990-12-12 00:00:00</td>\n      <td>1990-12-12 01:00:00</td>\n      <td>[343, 30]</td>\n      <td>['Nestle', 'Webcast']</td>\n      <td>Pickup/Dropoff</td>\n      <td>PHEC0002168891</td>\n      <td>...</td>\n      <td>Barangay 168</td>\n      <td>CALOOCAN CITY</td>\n      <td>NCR, THIRD DISTRICT</td>\n      <td>NCR (NATIONAL CAPITAL REGION)</td>\n      <td>2020/06/10 10:43:47.000</td>\n      <td>2020/09/10 04:53:41.000</td>\n      <td>None</td>\n      <td>None</td>\n      <td>NaN</td>\n      <td>POLYGON ((121.02558 14.73925, 121.02473 14.739...</td>\n    </tr>\n    <tr>\n      <th>3</th>\n      <td>Rustan's - Marikina</td>\n      <td>27 Royal Palm St, Marikina, 1800 Metro Manila,...</td>\n      <td>rectangle</td>\n      <td>{'lat': 14.6503079761005, 'lon': 121.116088176...</td>\n      <td>Invalid date</td>\n      <td>Invalid date</td>\n      <td>[343, 30]</td>\n      <td>['Nestle', 'Webcast']</td>\n      <td>Pickup/Dropoff</td>\n      <td>PHEC0002598218</td>\n      <td>...</td>\n      <td>Marikina Heights (Concepcion)</td>\n      <td>CITY OF MARIKINA</td>\n      <td>NCR, SECOND DISTRICT</td>\n      <td>NCR (NATIONAL CAPITAL REGION)</td>\n      <td>2020/06/10 10:43:55.000</td>\n      <td>2020/08/20 04:21:18.000</td>\n      <td>None</td>\n      <td>None</td>\n      <td>NaN</td>\n      <td>POLYGON ((121.11639 14.65008, 121.11579 14.650...</td>\n    </tr>\n    <tr>\n      <th>4</th>\n      <td>Rustan's - Fairview</td>\n      <td>6 General Aguinaldo Ave, Cubao, Quezon City, 1...</td>\n      <td>polygon</td>\n      <td>{'lat': 14.622015808686214, 'lon': 121.0535702...</td>\n      <td>Invalid date</td>\n      <td>Invalid date</td>\n      <td>[343, 30]</td>\n      <td>['Nestle', 'Webcast']</td>\n      <td>Pickup/Dropoff</td>\n      <td>PHEC0002578706</td>\n      <td>...</td>\n      <td>Socorro</td>\n      <td>QUEZON CITY</td>\n      <td>NCR, SECOND DISTRICT</td>\n      <td>NCR (NATIONAL CAPITAL REGION)</td>\n      <td>2020/06/10 10:43:51.000</td>\n      <td>2020/08/20 04:14:16.000</td>\n      <td>None</td>\n      <td>None</td>\n      <td>NaN</td>\n      <td>POLYGON ((121.05288 14.62244, 121.05419 14.622...</td>\n    </tr>\n  </tbody>\n</table>\n<p>5 rows × 23 columns</p>\n</div>"
     },
     "metadata": {},
     "execution_count": 33
    }
   ],
   "source": [
    "#load geofence data\n",
    "zipfile = \"TMSUITE-Geofences-asof-0429 SHP.zip\"\n",
    "geofences = gpd.read_file(zipfile)\n",
    "geofences.head()"
   ]
  },
  {
   "source": [
    "## Get points inside geofences"
   ],
   "cell_type": "markdown",
   "metadata": {}
  },
  {
   "cell_type": "code",
   "execution_count": 34,
   "metadata": {},
   "outputs": [
    {
     "output_type": "execute_result",
     "data": {
      "text/plain": [
       "               created  plateno   longitude  latitude  \\\n",
       "0  2021-04-06 03:19:10  KAD4602  124.758758  8.521865   \n",
       "1  2021-04-11 10:59:15  KAD4602  124.758278  8.520842   \n",
       "2  2021-04-21 10:28:54  KAD4602  124.758073  8.520575   \n",
       "3  2021-04-07 12:41:40  KAD4602  124.758327  8.520905   \n",
       "4  2021-04-06 03:22:08  KAD4602  124.758758  8.521865   \n",
       "\n",
       "                    geometry  \n",
       "0  POINT (124.75876 8.52187)  \n",
       "1  POINT (124.75828 8.52084)  \n",
       "2  POINT (124.75807 8.52057)  \n",
       "3  POINT (124.75833 8.52091)  \n",
       "4  POINT (124.75876 8.52187)  "
      ],
      "text/html": "<div>\n<style scoped>\n    .dataframe tbody tr th:only-of-type {\n        vertical-align: middle;\n    }\n\n    .dataframe tbody tr th {\n        vertical-align: top;\n    }\n\n    .dataframe thead th {\n        text-align: right;\n    }\n</style>\n<table border=\"1\" class=\"dataframe\">\n  <thead>\n    <tr style=\"text-align: right;\">\n      <th></th>\n      <th>created</th>\n      <th>plateno</th>\n      <th>longitude</th>\n      <th>latitude</th>\n      <th>geometry</th>\n    </tr>\n  </thead>\n  <tbody>\n    <tr>\n      <th>0</th>\n      <td>2021-04-06 03:19:10</td>\n      <td>KAD4602</td>\n      <td>124.758758</td>\n      <td>8.521865</td>\n      <td>POINT (124.75876 8.52187)</td>\n    </tr>\n    <tr>\n      <th>1</th>\n      <td>2021-04-11 10:59:15</td>\n      <td>KAD4602</td>\n      <td>124.758278</td>\n      <td>8.520842</td>\n      <td>POINT (124.75828 8.52084)</td>\n    </tr>\n    <tr>\n      <th>2</th>\n      <td>2021-04-21 10:28:54</td>\n      <td>KAD4602</td>\n      <td>124.758073</td>\n      <td>8.520575</td>\n      <td>POINT (124.75807 8.52057)</td>\n    </tr>\n    <tr>\n      <th>3</th>\n      <td>2021-04-07 12:41:40</td>\n      <td>KAD4602</td>\n      <td>124.758327</td>\n      <td>8.520905</td>\n      <td>POINT (124.75833 8.52091)</td>\n    </tr>\n    <tr>\n      <th>4</th>\n      <td>2021-04-06 03:22:08</td>\n      <td>KAD4602</td>\n      <td>124.758758</td>\n      <td>8.521865</td>\n      <td>POINT (124.75876 8.52187)</td>\n    </tr>\n  </tbody>\n</table>\n</div>"
     },
     "metadata": {},
     "execution_count": 34
    }
   ],
   "source": [
    "## load data\n",
    "gps_points = pd.read_csv('Nestle_April_Kodigo_GPS-Formatted-v2.csv')\n",
    "gps_points = gpd.GeoDataFrame(gps_points, geometry=gpd.points_from_xy(gps_points['longitude'], gps_points['latitude']))\n",
    "gps_points.head()"
   ]
  },
  {
   "cell_type": "code",
   "execution_count": 35,
   "metadata": {},
   "outputs": [
    {
     "output_type": "execute_result",
     "data": {
      "text/plain": [
       "                   created  plateno   longitude  latitude  \\\n",
       "0      2021-04-06 03:19:10  KAD4602  124.758758  8.521865   \n",
       "1      2021-04-11 10:59:15  KAD4602  124.758278  8.520842   \n",
       "2      2021-04-21 10:28:54  KAD4602  124.758073  8.520575   \n",
       "3      2021-04-07 12:41:40  KAD4602  124.758327  8.520905   \n",
       "4      2021-04-06 03:22:08  KAD4602  124.758758  8.521865   \n",
       "...                    ...      ...         ...       ...   \n",
       "58070  2021-04-01 02:08:32  KAD4602  124.758870  8.522120   \n",
       "58071  2021-04-01 02:07:32  KAD4602  124.758870  8.522120   \n",
       "58072  2021-04-01 02:13:33  KAD4602  124.758870  8.522120   \n",
       "58073  2021-04-01 02:12:32  KAD4602  124.758870  8.522120   \n",
       "58074  2021-04-01 02:06:32  KAD4602  124.758870  8.522120   \n",
       "\n",
       "                        geometry  \n",
       "0      POINT (124.75876 8.52187)  \n",
       "1      POINT (124.75828 8.52084)  \n",
       "2      POINT (124.75807 8.52057)  \n",
       "3      POINT (124.75833 8.52091)  \n",
       "4      POINT (124.75876 8.52187)  \n",
       "...                          ...  \n",
       "58070  POINT (124.75887 8.52212)  \n",
       "58071  POINT (124.75887 8.52212)  \n",
       "58072  POINT (124.75887 8.52212)  \n",
       "58073  POINT (124.75887 8.52212)  \n",
       "58074  POINT (124.75887 8.52212)  \n",
       "\n",
       "[58075 rows x 5 columns]"
      ],
      "text/html": "<div>\n<style scoped>\n    .dataframe tbody tr th:only-of-type {\n        vertical-align: middle;\n    }\n\n    .dataframe tbody tr th {\n        vertical-align: top;\n    }\n\n    .dataframe thead th {\n        text-align: right;\n    }\n</style>\n<table border=\"1\" class=\"dataframe\">\n  <thead>\n    <tr style=\"text-align: right;\">\n      <th></th>\n      <th>created</th>\n      <th>plateno</th>\n      <th>longitude</th>\n      <th>latitude</th>\n      <th>geometry</th>\n    </tr>\n  </thead>\n  <tbody>\n    <tr>\n      <th>0</th>\n      <td>2021-04-06 03:19:10</td>\n      <td>KAD4602</td>\n      <td>124.758758</td>\n      <td>8.521865</td>\n      <td>POINT (124.75876 8.52187)</td>\n    </tr>\n    <tr>\n      <th>1</th>\n      <td>2021-04-11 10:59:15</td>\n      <td>KAD4602</td>\n      <td>124.758278</td>\n      <td>8.520842</td>\n      <td>POINT (124.75828 8.52084)</td>\n    </tr>\n    <tr>\n      <th>2</th>\n      <td>2021-04-21 10:28:54</td>\n      <td>KAD4602</td>\n      <td>124.758073</td>\n      <td>8.520575</td>\n      <td>POINT (124.75807 8.52057)</td>\n    </tr>\n    <tr>\n      <th>3</th>\n      <td>2021-04-07 12:41:40</td>\n      <td>KAD4602</td>\n      <td>124.758327</td>\n      <td>8.520905</td>\n      <td>POINT (124.75833 8.52091)</td>\n    </tr>\n    <tr>\n      <th>4</th>\n      <td>2021-04-06 03:22:08</td>\n      <td>KAD4602</td>\n      <td>124.758758</td>\n      <td>8.521865</td>\n      <td>POINT (124.75876 8.52187)</td>\n    </tr>\n    <tr>\n      <th>...</th>\n      <td>...</td>\n      <td>...</td>\n      <td>...</td>\n      <td>...</td>\n      <td>...</td>\n    </tr>\n    <tr>\n      <th>58070</th>\n      <td>2021-04-01 02:08:32</td>\n      <td>KAD4602</td>\n      <td>124.758870</td>\n      <td>8.522120</td>\n      <td>POINT (124.75887 8.52212)</td>\n    </tr>\n    <tr>\n      <th>58071</th>\n      <td>2021-04-01 02:07:32</td>\n      <td>KAD4602</td>\n      <td>124.758870</td>\n      <td>8.522120</td>\n      <td>POINT (124.75887 8.52212)</td>\n    </tr>\n    <tr>\n      <th>58072</th>\n      <td>2021-04-01 02:13:33</td>\n      <td>KAD4602</td>\n      <td>124.758870</td>\n      <td>8.522120</td>\n      <td>POINT (124.75887 8.52212)</td>\n    </tr>\n    <tr>\n      <th>58073</th>\n      <td>2021-04-01 02:12:32</td>\n      <td>KAD4602</td>\n      <td>124.758870</td>\n      <td>8.522120</td>\n      <td>POINT (124.75887 8.52212)</td>\n    </tr>\n    <tr>\n      <th>58074</th>\n      <td>2021-04-01 02:06:32</td>\n      <td>KAD4602</td>\n      <td>124.758870</td>\n      <td>8.522120</td>\n      <td>POINT (124.75887 8.52212)</td>\n    </tr>\n  </tbody>\n</table>\n<p>58075 rows × 5 columns</p>\n</div>"
     },
     "metadata": {},
     "execution_count": 35
    }
   ],
   "source": [
    "# set coordinate referece system to 4326\n",
    "gps_points.set_crs(epsg=4326, inplace=True)"
   ]
  },
  {
   "cell_type": "code",
   "execution_count": 36,
   "metadata": {},
   "outputs": [
    {
     "output_type": "stream",
     "name": "stdout",
     "text": [
      "epsg:4326\nepsg:4326\n"
     ]
    }
   ],
   "source": [
    "#make sure they have the same coordinate reference system\n",
    "print(gps_points.crs)\n",
    "print(geofences.crs)"
   ]
  },
  {
   "cell_type": "code",
   "execution_count": 37,
   "metadata": {},
   "outputs": [],
   "source": [
    "### Spatial join\n",
    "points_inside_geofence = gpd.sjoin(gps_points, geofences, how = 'inner', op = 'within')"
   ]
  },
  {
   "cell_type": "code",
   "execution_count": 38,
   "metadata": {},
   "outputs": [],
   "source": [
    "# select and rename columns\n",
    "points_inside_geofence = points_inside_geofence.loc[:, ['plateno', 'name','created_left']]\n",
    "points_inside_geofence = points_inside_geofence.rename(columns = {'name' :'geofence_name','created_left':'datestamp'})"
   ]
  },
  {
   "cell_type": "code",
   "execution_count": 39,
   "metadata": {},
   "outputs": [],
   "source": [
    "# convert datestamp\n",
    "points_inside_geofence['datestamp'] = pd.to_datetime(points_inside_geofence['datestamp'])"
   ]
  },
  {
   "cell_type": "code",
   "execution_count": 40,
   "metadata": {},
   "outputs": [],
   "source": [
    "# sort values by datestamp\n",
    "data = points_inside_geofence.sort_values(by = 'datestamp')"
   ]
  },
  {
   "source": [
    "### Final data of points inside geofence"
   ],
   "cell_type": "markdown",
   "metadata": {}
  },
  {
   "cell_type": "code",
   "execution_count": 41,
   "metadata": {},
   "outputs": [
    {
     "output_type": "execute_result",
     "data": {
      "text/plain": [
       "       plateno                     geofence_name           datestamp\n",
       "57716  KAD4602       PH Cagayan Grocery - Source 2021-04-01 00:00:33\n",
       "57716  KAD4602  PH Cagayan Grocery - Destination 2021-04-01 00:00:33\n",
       "58026  KAD4602       PH Cagayan Grocery - Source 2021-04-01 00:01:33\n",
       "58026  KAD4602  PH Cagayan Grocery - Destination 2021-04-01 00:01:33\n",
       "57613  KAD4602  PH Cagayan Grocery - Destination 2021-04-01 00:02:33\n",
       "...        ...                               ...                 ...\n",
       "54354  KAD4602       PH Cagayan Grocery - Source 2021-04-30 16:15:37\n",
       "54360  KAD4602       PH Cagayan Grocery - Source 2021-04-30 16:15:43\n",
       "54360  KAD4602  PH Cagayan Grocery - Destination 2021-04-30 16:15:43\n",
       "54352  KAD4602       PH Cagayan Grocery - Source 2021-04-30 16:15:49\n",
       "54352  KAD4602  PH Cagayan Grocery - Destination 2021-04-30 16:15:49\n",
       "\n",
       "[42320 rows x 3 columns]"
      ],
      "text/html": "<div>\n<style scoped>\n    .dataframe tbody tr th:only-of-type {\n        vertical-align: middle;\n    }\n\n    .dataframe tbody tr th {\n        vertical-align: top;\n    }\n\n    .dataframe thead th {\n        text-align: right;\n    }\n</style>\n<table border=\"1\" class=\"dataframe\">\n  <thead>\n    <tr style=\"text-align: right;\">\n      <th></th>\n      <th>plateno</th>\n      <th>geofence_name</th>\n      <th>datestamp</th>\n    </tr>\n  </thead>\n  <tbody>\n    <tr>\n      <th>57716</th>\n      <td>KAD4602</td>\n      <td>PH Cagayan Grocery - Source</td>\n      <td>2021-04-01 00:00:33</td>\n    </tr>\n    <tr>\n      <th>57716</th>\n      <td>KAD4602</td>\n      <td>PH Cagayan Grocery - Destination</td>\n      <td>2021-04-01 00:00:33</td>\n    </tr>\n    <tr>\n      <th>58026</th>\n      <td>KAD4602</td>\n      <td>PH Cagayan Grocery - Source</td>\n      <td>2021-04-01 00:01:33</td>\n    </tr>\n    <tr>\n      <th>58026</th>\n      <td>KAD4602</td>\n      <td>PH Cagayan Grocery - Destination</td>\n      <td>2021-04-01 00:01:33</td>\n    </tr>\n    <tr>\n      <th>57613</th>\n      <td>KAD4602</td>\n      <td>PH Cagayan Grocery - Destination</td>\n      <td>2021-04-01 00:02:33</td>\n    </tr>\n    <tr>\n      <th>...</th>\n      <td>...</td>\n      <td>...</td>\n      <td>...</td>\n    </tr>\n    <tr>\n      <th>54354</th>\n      <td>KAD4602</td>\n      <td>PH Cagayan Grocery - Source</td>\n      <td>2021-04-30 16:15:37</td>\n    </tr>\n    <tr>\n      <th>54360</th>\n      <td>KAD4602</td>\n      <td>PH Cagayan Grocery - Source</td>\n      <td>2021-04-30 16:15:43</td>\n    </tr>\n    <tr>\n      <th>54360</th>\n      <td>KAD4602</td>\n      <td>PH Cagayan Grocery - Destination</td>\n      <td>2021-04-30 16:15:43</td>\n    </tr>\n    <tr>\n      <th>54352</th>\n      <td>KAD4602</td>\n      <td>PH Cagayan Grocery - Source</td>\n      <td>2021-04-30 16:15:49</td>\n    </tr>\n    <tr>\n      <th>54352</th>\n      <td>KAD4602</td>\n      <td>PH Cagayan Grocery - Destination</td>\n      <td>2021-04-30 16:15:49</td>\n    </tr>\n  </tbody>\n</table>\n<p>42320 rows × 3 columns</p>\n</div>"
     },
     "metadata": {},
     "execution_count": 41
    }
   ],
   "source": [
    "data"
   ]
  },
  {
   "cell_type": "code",
   "execution_count": 43,
   "metadata": {},
   "outputs": [],
   "source": [
    "# export to csv\n",
    "data.to_csv('points_inside_geofences.csv', index=False)"
   ]
  },
  {
   "source": [
    "## Generate CICO"
   ],
   "cell_type": "markdown",
   "metadata": {}
  },
  {
   "cell_type": "code",
   "execution_count": 11,
   "metadata": {},
   "outputs": [
    {
     "output_type": "execute_result",
     "data": {
      "text/plain": [
       "plateno                  object\n",
       "geofence_name            object\n",
       "datestamp        datetime64[ns]\n",
       "dtype: object"
      ]
     },
     "metadata": {},
     "execution_count": 11
    }
   ],
   "source": [
    "# make sure datestamp column is a datestamp object\n",
    "data['datestamp'] = pd.to_datetime(data['datestamp'])\n",
    "data.dtypes"
   ]
  },
  {
   "cell_type": "code",
   "execution_count": 12,
   "metadata": {},
   "outputs": [],
   "source": [
    "# create a tracking period of 30 mins\n",
    "data['track_period'] = data['datestamp'].dt.floor('30T')"
   ]
  },
  {
   "cell_type": "code",
   "execution_count": 13,
   "metadata": {},
   "outputs": [],
   "source": [
    "# groupby and get timestart, end, count, duration\n",
    "data['time_start'] = data.groupby(['plateno','geofence_name','track_period']).transform('min')\n",
    "data['time_end'] = data.groupby(['plateno','geofence_name','track_period']).transform('max')['datestamp']\n",
    "data['count'] = data.groupby(['plateno','geofence_name','track_period']).transform('count')['datestamp']\n",
    "data['duration'] = (data['time_end'] - data['time_start']).dt.total_seconds()\n"
   ]
  },
  {
   "cell_type": "code",
   "execution_count": 14,
   "metadata": {},
   "outputs": [],
   "source": [
    "# filter those that are less than 5 points and 5 mins\n",
    "#data = data.loc[(data['count'] > 5) & (data['duration'] > 300), :]\n",
    "\n",
    "# sort by plateno, geofence, and track period\n",
    "data = data.sort_values(by = ['plateno','geofence_name','track_period'])\n",
    "data = data.loc[:, ['plateno','geofence_name','track_period','time_start','time_end','duration','count']]"
   ]
  },
  {
   "cell_type": "code",
   "execution_count": 15,
   "metadata": {},
   "outputs": [],
   "source": [
    "# remove duplicates and sort values\n",
    "data.drop_duplicates(inplace = True)\n",
    "data = data.sort_values(by = ['plateno','track_period'])\n",
    "data = data.sort_values(by = ['plateno','geofence_name'])"
   ]
  },
  {
   "cell_type": "code",
   "execution_count": 16,
   "metadata": {},
   "outputs": [],
   "source": [
    "# get time end at prev loc and time at next loc\n",
    "data['time_end_prev_loc'] = data.groupby(['plateno','geofence_name'])['time_end'].shift(1)\n",
    "data['time_start_next_loc'] = data.groupby(['plateno','geofence_name'])['time_start'].shift(-1)\n"
   ]
  },
  {
   "cell_type": "code",
   "execution_count": 17,
   "metadata": {},
   "outputs": [],
   "source": [
    "#get time diff from previous and next locations\n",
    "data['time_diff_next_loc'] = (data['time_start_next_loc'] - data['time_end']).dt.total_seconds()\n",
    "data['time_diff_prev_loc'] = (data['time_start'] - data['time_end_prev_loc']).dt.total_seconds()"
   ]
  },
  {
   "cell_type": "code",
   "execution_count": 18,
   "metadata": {},
   "outputs": [],
   "source": [
    "# check if continuing\n",
    "# continuing if the timestamp from previous and next location is less than 5 mins\n",
    "data['continue_next_loc']= data['time_diff_next_loc'] < 300\n",
    "data['continue_prev_loc'] = data['time_diff_prev_loc'] < 300\n",
    "data['continuing'] = data['continue_prev_loc'] & data['continue_next_loc']"
   ]
  },
  {
   "cell_type": "code",
   "execution_count": 19,
   "metadata": {},
   "outputs": [],
   "source": [
    "#filter not continuing CICO\n",
    "data = data.loc[(data['continuing'] == False), :]"
   ]
  },
  {
   "cell_type": "code",
   "execution_count": 20,
   "metadata": {},
   "outputs": [],
   "source": [
    "# adjust for time end\n",
    "data['lead_time_diff_prev_loc'] = data.groupby(['plateno','geofence_name'])['time_diff_prev_loc'].shift(-1)\n",
    "data['lead_time_end'] = data.groupby(['plateno','geofence_name'])['time_end'].shift(-1)"
   ]
  },
  {
   "cell_type": "code",
   "execution_count": 21,
   "metadata": {},
   "outputs": [],
   "source": [
    "# comppute for actual time end\n",
    "c1 = data['time_end_prev_loc'].isnull()\n",
    "c2 = data['lead_time_diff_prev_loc'] < 300\n",
    "c3 = data['time_diff_next_loc'] <= 300\n",
    "\n",
    "condition = ((c1 | c2) & c3)\n",
    "\n",
    "data['actual_time_end'] = np.where(condition, data['lead_time_end'], data['time_end'])\n",
    "\n",
    "data['actual_time_end'] = np.where(data['time_diff_next_loc'].isnull(), data['time_end'], data['actual_time_end'])"
   ]
  },
  {
   "cell_type": "code",
   "execution_count": 22,
   "metadata": {},
   "outputs": [],
   "source": [
    "# filter those with actual time and select relevant columns\n",
    "data = data.loc[data['actual_time_end'].notnull(),:]\n",
    "data = data.loc[:, ['plateno','geofence_name','time_start','actual_time_end']]"
   ]
  },
  {
   "cell_type": "code",
   "execution_count": 23,
   "metadata": {},
   "outputs": [],
   "source": [
    "# compute for dwell time\n",
    "data['duration'] = (data['actual_time_end'] - data['time_start']).dt.total_seconds()"
   ]
  },
  {
   "cell_type": "code",
   "execution_count": 24,
   "metadata": {},
   "outputs": [],
   "source": [
    "# remove cico that were used as a reference to adjust time\n",
    "data['ranking'] = data.groupby(['plateno','geofence_name','actual_time_end'])['duration'].rank(ascending = False)\n",
    "data = data.loc[data['ranking'] != 2, :]"
   ]
  },
  {
   "cell_type": "code",
   "execution_count": 25,
   "metadata": {},
   "outputs": [],
   "source": [
    "# select columns\n",
    "data = data.loc[:, ['plateno','geofence_name','time_start','actual_time_end','duration']]"
   ]
  },
  {
   "cell_type": "code",
   "execution_count": 26,
   "metadata": {},
   "outputs": [],
   "source": [
    "# rename columns\n",
    "data = data.rename(columns= {'time_start':'datestamp_entry', 'actual_time_end': 'datestamp_left','duration' : 'dwell_time'}).reset_index(drop=True)"
   ]
  },
  {
   "cell_type": "code",
   "execution_count": 27,
   "metadata": {},
   "outputs": [],
   "source": [
    "# sory by datestamp\n",
    "data = data.sort_values(by = 'datestamp_entry').reset_index(drop=True)"
   ]
  },
  {
   "cell_type": "code",
   "execution_count": 28,
   "metadata": {},
   "outputs": [],
   "source": [
    "# add dwell time on HMS\n",
    "data['dwell_time_hms'] = pd.to_datetime(data['dwell_time'], unit='s').dt.strftime(\"%H:%M:%S\")"
   ]
  },
  {
   "source": [
    "### Final CICO data"
   ],
   "cell_type": "markdown",
   "metadata": {}
  },
  {
   "cell_type": "code",
   "execution_count": 29,
   "metadata": {},
   "outputs": [],
   "source": [
    "data = data.reset_index().rename(columns= {'index' : 'cico_id'})"
   ]
  },
  {
   "cell_type": "code",
   "execution_count": 30,
   "metadata": {},
   "outputs": [
    {
     "output_type": "execute_result",
     "data": {
      "text/plain": [
       "     cico_id  plateno                     geofence_name     datestamp_entry  \\\n",
       "0          0  KAD4602       PH Cagayan Grocery - Source 2021-04-01 00:00:33   \n",
       "1          1  KAD4602  PH Cagayan Grocery - Destination 2021-04-01 00:00:33   \n",
       "2          2  KAD4602     Robinson's Supermarket - Gusa 2021-04-03 08:15:54   \n",
       "3          3  KAD4602  Puregold Price Club - Cagayan De 2021-04-03 09:49:15   \n",
       "4          4  KAD4602          McDonald's CDO Limketkai 2021-04-03 09:50:54   \n",
       "..       ...      ...                               ...                 ...   \n",
       "354      354  KAD4602            McDonald's CDO Ororama 2021-04-30 11:23:17   \n",
       "355      355  KAD4602           Gaisano City - JR Borja 2021-04-30 11:24:38   \n",
       "356      356  KAD4602     Robinson's Supermarket - Gusa 2021-04-30 11:38:18   \n",
       "357      357  KAD4602  PH Cagayan Grocery - Destination 2021-04-30 14:33:07   \n",
       "358      358  KAD4602       PH Cagayan Grocery - Source 2021-04-30 14:33:10   \n",
       "\n",
       "         datestamp_left  dwell_time dwell_time_hms  \n",
       "0   2021-04-03 07:39:30    200337.0       07:38:57  \n",
       "1   2021-04-03 07:39:30    200337.0       07:38:57  \n",
       "2   2021-04-03 09:43:29      5255.0       01:27:35  \n",
       "3   2021-04-03 09:51:09       114.0       00:01:54  \n",
       "4   2021-04-03 09:51:24        30.0       00:00:30  \n",
       "..                  ...         ...            ...  \n",
       "354 2021-04-30 11:23:29        12.0       00:00:12  \n",
       "355 2021-04-30 11:24:38         0.0       00:00:00  \n",
       "356 2021-04-30 11:38:18         0.0       00:00:00  \n",
       "357 2021-04-30 16:15:49      6162.0       01:42:42  \n",
       "358 2021-04-30 16:15:49      6159.0       01:42:39  \n",
       "\n",
       "[359 rows x 7 columns]"
      ],
      "text/html": "<div>\n<style scoped>\n    .dataframe tbody tr th:only-of-type {\n        vertical-align: middle;\n    }\n\n    .dataframe tbody tr th {\n        vertical-align: top;\n    }\n\n    .dataframe thead th {\n        text-align: right;\n    }\n</style>\n<table border=\"1\" class=\"dataframe\">\n  <thead>\n    <tr style=\"text-align: right;\">\n      <th></th>\n      <th>cico_id</th>\n      <th>plateno</th>\n      <th>geofence_name</th>\n      <th>datestamp_entry</th>\n      <th>datestamp_left</th>\n      <th>dwell_time</th>\n      <th>dwell_time_hms</th>\n    </tr>\n  </thead>\n  <tbody>\n    <tr>\n      <th>0</th>\n      <td>0</td>\n      <td>KAD4602</td>\n      <td>PH Cagayan Grocery - Source</td>\n      <td>2021-04-01 00:00:33</td>\n      <td>2021-04-03 07:39:30</td>\n      <td>200337.0</td>\n      <td>07:38:57</td>\n    </tr>\n    <tr>\n      <th>1</th>\n      <td>1</td>\n      <td>KAD4602</td>\n      <td>PH Cagayan Grocery - Destination</td>\n      <td>2021-04-01 00:00:33</td>\n      <td>2021-04-03 07:39:30</td>\n      <td>200337.0</td>\n      <td>07:38:57</td>\n    </tr>\n    <tr>\n      <th>2</th>\n      <td>2</td>\n      <td>KAD4602</td>\n      <td>Robinson's Supermarket - Gusa</td>\n      <td>2021-04-03 08:15:54</td>\n      <td>2021-04-03 09:43:29</td>\n      <td>5255.0</td>\n      <td>01:27:35</td>\n    </tr>\n    <tr>\n      <th>3</th>\n      <td>3</td>\n      <td>KAD4602</td>\n      <td>Puregold Price Club - Cagayan De</td>\n      <td>2021-04-03 09:49:15</td>\n      <td>2021-04-03 09:51:09</td>\n      <td>114.0</td>\n      <td>00:01:54</td>\n    </tr>\n    <tr>\n      <th>4</th>\n      <td>4</td>\n      <td>KAD4602</td>\n      <td>McDonald's CDO Limketkai</td>\n      <td>2021-04-03 09:50:54</td>\n      <td>2021-04-03 09:51:24</td>\n      <td>30.0</td>\n      <td>00:00:30</td>\n    </tr>\n    <tr>\n      <th>...</th>\n      <td>...</td>\n      <td>...</td>\n      <td>...</td>\n      <td>...</td>\n      <td>...</td>\n      <td>...</td>\n      <td>...</td>\n    </tr>\n    <tr>\n      <th>354</th>\n      <td>354</td>\n      <td>KAD4602</td>\n      <td>McDonald's CDO Ororama</td>\n      <td>2021-04-30 11:23:17</td>\n      <td>2021-04-30 11:23:29</td>\n      <td>12.0</td>\n      <td>00:00:12</td>\n    </tr>\n    <tr>\n      <th>355</th>\n      <td>355</td>\n      <td>KAD4602</td>\n      <td>Gaisano City - JR Borja</td>\n      <td>2021-04-30 11:24:38</td>\n      <td>2021-04-30 11:24:38</td>\n      <td>0.0</td>\n      <td>00:00:00</td>\n    </tr>\n    <tr>\n      <th>356</th>\n      <td>356</td>\n      <td>KAD4602</td>\n      <td>Robinson's Supermarket - Gusa</td>\n      <td>2021-04-30 11:38:18</td>\n      <td>2021-04-30 11:38:18</td>\n      <td>0.0</td>\n      <td>00:00:00</td>\n    </tr>\n    <tr>\n      <th>357</th>\n      <td>357</td>\n      <td>KAD4602</td>\n      <td>PH Cagayan Grocery - Destination</td>\n      <td>2021-04-30 14:33:07</td>\n      <td>2021-04-30 16:15:49</td>\n      <td>6162.0</td>\n      <td>01:42:42</td>\n    </tr>\n    <tr>\n      <th>358</th>\n      <td>358</td>\n      <td>KAD4602</td>\n      <td>PH Cagayan Grocery - Source</td>\n      <td>2021-04-30 14:33:10</td>\n      <td>2021-04-30 16:15:49</td>\n      <td>6159.0</td>\n      <td>01:42:39</td>\n    </tr>\n  </tbody>\n</table>\n<p>359 rows × 7 columns</p>\n</div>"
     },
     "metadata": {},
     "execution_count": 30
    }
   ],
   "source": [
    "data"
   ]
  },
  {
   "cell_type": "code",
   "execution_count": 31,
   "metadata": {},
   "outputs": [],
   "source": [
    "data.to_csv('KAD4602_ver2_python.csv', index=False)"
   ]
  },
  {
   "source": [
    "## Normalizing CICO"
   ],
   "cell_type": "markdown",
   "metadata": {}
  },
  {
   "cell_type": "code",
   "execution_count": 34,
   "metadata": {},
   "outputs": [],
   "source": [
    "# sort by plateno and datestamp entry\n",
    "data = data.sort_values(by = ['plateno', 'datestamp_entry', 'geofence_name'])"
   ]
  },
  {
   "cell_type": "code",
   "execution_count": 35,
   "metadata": {},
   "outputs": [],
   "source": [
    "# check if continuing\n",
    "data['prev_match'] = data['geofence_name'].eq(data['geofence_name'].shift(1))\n",
    "data['next_match'] = data['geofence_name'].eq(data['geofence_name'].shift(-1))\n",
    "data['continuing'] = np.where((data['prev_match']) & (data['next_match']), 1, 0)"
   ]
  },
  {
   "cell_type": "code",
   "execution_count": 36,
   "metadata": {},
   "outputs": [],
   "source": [
    "# select relevant columns and those that are not continuing\n",
    "data = data.loc[data['continuing'] == 0, ['plateno', 'geofence_name','datestamp_entry', 'datestamp_left', 'dwell_time','dwell_time_hms', 'continuing']]"
   ]
  },
  {
   "cell_type": "code",
   "execution_count": 37,
   "metadata": {},
   "outputs": [],
   "source": [
    "#check if same next\n",
    "data['has_same_next'] =  np.where(data['geofence_name'].eq(data['geofence_name'].shift(-1)), 1, 0)"
   ]
  },
  {
   "cell_type": "code",
   "execution_count": 38,
   "metadata": {},
   "outputs": [],
   "source": [
    "# adjust datestamp left\n",
    "data['new_datestamp_left'] = np.where(data['has_same_next'] == 1, data['datestamp_left'].shift(-1), data['datestamp_left'])"
   ]
  },
  {
   "cell_type": "code",
   "execution_count": 39,
   "metadata": {},
   "outputs": [],
   "source": [
    "# remove those with same next\n",
    "data['to_remove'] = data['has_same_next'].shift(1) == 1\n",
    "data = data.loc[data['to_remove'] == False, ['plateno', 'geofence_name', 'datestamp_entry','new_datestamp_left' ,'dwell_time', 'dwell_time_hms']]"
   ]
  },
  {
   "cell_type": "code",
   "execution_count": 40,
   "metadata": {},
   "outputs": [],
   "source": [
    "data.rename(columns= {'new_datestamp_left' :'datestamp_left'}, inplace=True)"
   ]
  },
  {
   "cell_type": "code",
   "execution_count": 41,
   "metadata": {},
   "outputs": [],
   "source": [
    "data['dwell_time'] = (data['datestamp_left'] - data['datestamp_entry']).dt.total_seconds()\n",
    "data['dwell_time_hms'] = pd.to_datetime(data['dwell_time'], unit='s').dt.strftime(\"%H:%M:%S\")\n",
    "data.reset_index(drop = True, inplace = True)"
   ]
  },
  {
   "source": [
    "### Final normalized data"
   ],
   "cell_type": "markdown",
   "metadata": {}
  },
  {
   "cell_type": "code",
   "execution_count": 43,
   "metadata": {},
   "outputs": [],
   "source": [
    "data.to_csv('normalized_cico.csv', index=False)"
   ]
  }
 ]
}