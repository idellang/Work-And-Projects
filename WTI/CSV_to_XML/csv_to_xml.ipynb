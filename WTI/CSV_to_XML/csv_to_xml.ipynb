{
 "metadata": {
  "language_info": {
   "codemirror_mode": {
    "name": "ipython",
    "version": 3
   },
   "file_extension": ".py",
   "mimetype": "text/x-python",
   "name": "python",
   "nbconvert_exporter": "python",
   "pygments_lexer": "ipython3",
   "version": "3.9.0"
  },
  "orig_nbformat": 2,
  "kernelspec": {
   "name": "python390jvsc74a57bd0c538cf36d1368961783812db133503b5bcd381ebafab078933f492cb36ca4168",
   "display_name": "Python 3.9.0 64-bit"
  },
  "metadata": {
   "interpreter": {
    "hash": "c538cf36d1368961783812db133503b5bcd381ebafab078933f492cb36ca4168"
   }
  }
 },
 "nbformat": 4,
 "nbformat_minor": 2,
 "cells": [
  {
   "cell_type": "code",
   "execution_count": 1,
   "metadata": {},
   "outputs": [],
   "source": [
    "import pandas as pd \n",
    "import numpy as np \n",
    "import os"
   ]
  },
  {
   "cell_type": "code",
   "execution_count": 2,
   "metadata": {},
   "outputs": [],
   "source": [
    "df = pd.read_csv('dummy_fo.csv')"
   ]
  },
  {
   "cell_type": "code",
   "execution_count": 3,
   "metadata": {},
   "outputs": [
    {
     "output_type": "execute_result",
     "data": {
      "text/plain": [
       "    so_number  customer_number                                       location  \\\n",
       "0  7300000584         99999998                              8070 BCFG Calamba   \n",
       "1  7300000584         99999998                              8070 BCFG Calamba   \n",
       "2  7300000584         99999998  Right Goods South Operations Inc. - Las Pinas   \n",
       "3  7300000584         99999998  Right Goods South Operations Inc. - Las Pinas   \n",
       "4  7300000560         99999998                     PH Cabuyao FG - UHT Source   \n",
       "5  7300000560         99999998                     PH Cabuyao FG - UHT Source   \n",
       "6  7300000560         99999998                               OCSI - San Pablo   \n",
       "7  7300000560         99999998                               OCSI - San Pablo   \n",
       "\n",
       "    latitude   longitude            datestamp        code  \\\n",
       "0  14.225017  121.139928  2020-07-18T04:23:39  G_LARRIVED   \n",
       "1  14.225017  121.139928  2020-07-18T06:23:39   G_LDEPART   \n",
       "2  14.223106  121.140126  2020-07-20T13:14:57  G_UARRIVED   \n",
       "3  14.223106  121.140126  2020-07-20T15:14:16   G_UDEPART   \n",
       "4  14.222875  121.138976  2020-07-21T08:15:24  G_LARRIVED   \n",
       "5  14.222875  121.138976  2020-07-21T10:05:15   G_LDEPART   \n",
       "6  14.223001  121.140665  2020-07-21T19:38:04  G_UARRIVED   \n",
       "7  14.223001  121.140665  2020-07-20T20:14:55   G_UDEPART   \n",
       "\n",
       "                    alert_message  \n",
       "0     Arrived at loading location  \n",
       "1    Departed at loading location  \n",
       "2   Arrived at unloading location  \n",
       "3  Departed at unloading location  \n",
       "4     Arrived at loading location  \n",
       "5    Departed at loading location  \n",
       "6   Arrived at unloading location  \n",
       "7  Departed at unloading location  "
      ],
      "text/html": "<div>\n<style scoped>\n    .dataframe tbody tr th:only-of-type {\n        vertical-align: middle;\n    }\n\n    .dataframe tbody tr th {\n        vertical-align: top;\n    }\n\n    .dataframe thead th {\n        text-align: right;\n    }\n</style>\n<table border=\"1\" class=\"dataframe\">\n  <thead>\n    <tr style=\"text-align: right;\">\n      <th></th>\n      <th>so_number</th>\n      <th>customer_number</th>\n      <th>location</th>\n      <th>latitude</th>\n      <th>longitude</th>\n      <th>datestamp</th>\n      <th>code</th>\n      <th>alert_message</th>\n    </tr>\n  </thead>\n  <tbody>\n    <tr>\n      <th>0</th>\n      <td>7300000584</td>\n      <td>99999998</td>\n      <td>8070 BCFG Calamba</td>\n      <td>14.225017</td>\n      <td>121.139928</td>\n      <td>2020-07-18T04:23:39</td>\n      <td>G_LARRIVED</td>\n      <td>Arrived at loading location</td>\n    </tr>\n    <tr>\n      <th>1</th>\n      <td>7300000584</td>\n      <td>99999998</td>\n      <td>8070 BCFG Calamba</td>\n      <td>14.225017</td>\n      <td>121.139928</td>\n      <td>2020-07-18T06:23:39</td>\n      <td>G_LDEPART</td>\n      <td>Departed at loading location</td>\n    </tr>\n    <tr>\n      <th>2</th>\n      <td>7300000584</td>\n      <td>99999998</td>\n      <td>Right Goods South Operations Inc. - Las Pinas</td>\n      <td>14.223106</td>\n      <td>121.140126</td>\n      <td>2020-07-20T13:14:57</td>\n      <td>G_UARRIVED</td>\n      <td>Arrived at unloading location</td>\n    </tr>\n    <tr>\n      <th>3</th>\n      <td>7300000584</td>\n      <td>99999998</td>\n      <td>Right Goods South Operations Inc. - Las Pinas</td>\n      <td>14.223106</td>\n      <td>121.140126</td>\n      <td>2020-07-20T15:14:16</td>\n      <td>G_UDEPART</td>\n      <td>Departed at unloading location</td>\n    </tr>\n    <tr>\n      <th>4</th>\n      <td>7300000560</td>\n      <td>99999998</td>\n      <td>PH Cabuyao FG - UHT Source</td>\n      <td>14.222875</td>\n      <td>121.138976</td>\n      <td>2020-07-21T08:15:24</td>\n      <td>G_LARRIVED</td>\n      <td>Arrived at loading location</td>\n    </tr>\n    <tr>\n      <th>5</th>\n      <td>7300000560</td>\n      <td>99999998</td>\n      <td>PH Cabuyao FG - UHT Source</td>\n      <td>14.222875</td>\n      <td>121.138976</td>\n      <td>2020-07-21T10:05:15</td>\n      <td>G_LDEPART</td>\n      <td>Departed at loading location</td>\n    </tr>\n    <tr>\n      <th>6</th>\n      <td>7300000560</td>\n      <td>99999998</td>\n      <td>OCSI - San Pablo</td>\n      <td>14.223001</td>\n      <td>121.140665</td>\n      <td>2020-07-21T19:38:04</td>\n      <td>G_UARRIVED</td>\n      <td>Arrived at unloading location</td>\n    </tr>\n    <tr>\n      <th>7</th>\n      <td>7300000560</td>\n      <td>99999998</td>\n      <td>OCSI - San Pablo</td>\n      <td>14.223001</td>\n      <td>121.140665</td>\n      <td>2020-07-20T20:14:55</td>\n      <td>G_UDEPART</td>\n      <td>Departed at unloading location</td>\n    </tr>\n  </tbody>\n</table>\n</div>"
     },
     "metadata": {},
     "execution_count": 3
    }
   ],
   "source": [
    "df"
   ]
  },
  {
   "cell_type": "code",
   "execution_count": 4,
   "metadata": {},
   "outputs": [],
   "source": [
    "def convert_row2(row):\n",
    "    return f'''<status xmlns=\"http://www.kewill.com/logistics/klic/status\" type=\"tag\">\n",
    "    <ediCustomerNumber>{row['customer_number']}</ediCustomerNumber>\n",
    "    <ediParam1>4</ediParam1>\n",
    "    <ediParam2>s</ediParam2>\n",
    "    <ediParam3>s</ediParam3>\n",
    "    <ediReference>Webcast</ediReference>\n",
    "    <internalNumber>{row['so_number']}</internalNumber>\n",
    "    <ediFunction1>2</ediFunction1>\n",
    "    <ediCustomerSearchName>STANDAARD</ediCustomerSearchName>\n",
    "    <fileHeader type = \"tag\">\n",
    "        <trackingAndTracing type = \"tag\">\n",
    "            <dateTimeZone>{row['datestamp']}</dateTimeZone>\n",
    "            <code>{row['code']}</code>\n",
    "            <remark_1>LAT:{row['latitude']},LONG:{row['longitude']}</remark_1>\n",
    "            <remark_2>{row['alert_message']}, {row['location']}</remark_2>\n",
    "        </trackingAndTracing>\n",
    "    </fileHeader>\n",
    "</status>\n",
    "    '''"
   ]
  },
  {
   "cell_type": "code",
   "execution_count": 5,
   "metadata": {},
   "outputs": [],
   "source": [
    "df['xml'] = df.apply(convert_row2, axis=1)"
   ]
  },
  {
   "cell_type": "code",
   "execution_count": 10,
   "metadata": {},
   "outputs": [],
   "source": [
    "df.datestamp = pd.to_datetime(df.datestamp)\n",
    "df['datestamp'] = df['datestamp'].dt.strftime('%Y%m%dTO%H%M%S')"
   ]
  },
  {
   "cell_type": "code",
   "execution_count": 11,
   "metadata": {},
   "outputs": [],
   "source": [
    "def save_xml(row):\n",
    "    with open(f\"xml_folder/{row['so_number']}_{row['datestamp']}.xml\" ,'w') as f:\n",
    "        f.write(row['xml'])"
   ]
  },
  {
   "cell_type": "code",
   "execution_count": 13,
   "metadata": {},
   "outputs": [],
   "source": [
    "if not os.path.exists('xml_folder'):\n",
    "    os.makedirs('xml_folder')"
   ]
  },
  {
   "cell_type": "code",
   "execution_count": 15,
   "metadata": {},
   "outputs": [
    {
     "output_type": "execute_result",
     "data": {
      "text/plain": [
       "0    None\n",
       "1    None\n",
       "2    None\n",
       "3    None\n",
       "4    None\n",
       "5    None\n",
       "6    None\n",
       "7    None\n",
       "dtype: object"
      ]
     },
     "metadata": {},
     "execution_count": 15
    }
   ],
   "source": [
    "df.apply(save_xml, axis = 1)"
   ]
  }
 ]
}