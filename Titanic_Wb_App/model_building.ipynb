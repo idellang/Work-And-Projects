{
 "cells": [
  {
   "cell_type": "code",
   "execution_count": 24,
   "source": [
    "import  pandas as pd\r\n",
    "import numpy as np \r\n",
    "import streamlit as st\r\n"
   ],
   "outputs": [],
   "metadata": {}
  },
  {
   "cell_type": "markdown",
   "source": [
    "## Upload and clean the data"
   ],
   "metadata": {}
  },
  {
   "cell_type": "code",
   "execution_count": 25,
   "source": [
    "train = pd.read_csv('data/train.csv')"
   ],
   "outputs": [],
   "metadata": {}
  },
  {
   "cell_type": "code",
   "execution_count": 26,
   "source": [
    "# check missing valuies\r\n",
    "train.isnull().sum()"
   ],
   "outputs": [
    {
     "output_type": "execute_result",
     "data": {
      "text/plain": [
       "PassengerId      0\n",
       "Survived         0\n",
       "Pclass           0\n",
       "Name             0\n",
       "Sex              0\n",
       "Age            177\n",
       "SibSp            0\n",
       "Parch            0\n",
       "Ticket           0\n",
       "Fare             0\n",
       "Cabin          687\n",
       "Embarked         2\n",
       "dtype: int64"
      ]
     },
     "metadata": {},
     "execution_count": 26
    }
   ],
   "metadata": {}
  },
  {
   "cell_type": "code",
   "execution_count": 27,
   "source": [
    "train.dtypes"
   ],
   "outputs": [
    {
     "output_type": "execute_result",
     "data": {
      "text/plain": [
       "PassengerId      int64\n",
       "Survived         int64\n",
       "Pclass           int64\n",
       "Name            object\n",
       "Sex             object\n",
       "Age            float64\n",
       "SibSp            int64\n",
       "Parch            int64\n",
       "Ticket          object\n",
       "Fare           float64\n",
       "Cabin           object\n",
       "Embarked        object\n",
       "dtype: object"
      ]
     },
     "metadata": {},
     "execution_count": 27
    }
   ],
   "metadata": {}
  },
  {
   "cell_type": "code",
   "execution_count": 28,
   "source": [
    "# drop some unnecessary columns\r\n",
    "train = train.drop(columns= ['Name','PassengerId','Cabin','Ticket'])"
   ],
   "outputs": [],
   "metadata": {}
  },
  {
   "cell_type": "code",
   "execution_count": 40,
   "source": [
    "# create classs of dataframe selector\r\n",
    "# create also attribute adder\r\n",
    "from sklearn.base import BaseEstimator, TransformerMixin\r\n",
    "\r\n",
    "class DataFrameSelector(BaseEstimator, TransformerMixin):\r\n",
    "    def __init__(self, attribute_names):\r\n",
    "        self.attribute_names = attribute_names\r\n",
    "    def fit(self, X, y = None):\r\n",
    "        return self\r\n",
    "    def transform(self, X):\r\n",
    "        return X[self.attribute_names]\r\n",
    "        \r\n",
    "class RelAdder(BaseEstimator, TransformerMixin):\r\n",
    "    def __init__(self):\r\n",
    "        pass\r\n",
    "    def fit(self, X, y = None):\r\n",
    "        return self \r\n",
    "    def transform(self, X, y = None):\r\n",
    "        rel_count = X[:, 1] + X[:, 2]\r\n",
    "        \r\n",
    "        return np.c_[X,rel_count]"
   ],
   "outputs": [],
   "metadata": {}
  },
  {
   "cell_type": "code",
   "execution_count": 51,
   "source": [
    "from sklearn.pipeline import Pipeline\r\n",
    "from sklearn.preprocessing import StandardScaler\r\n",
    "from sklearn.impute import SimpleImputer\r\n",
    "\r\n",
    "num_pipeline = Pipeline([\r\n",
    "        ('select_numeric', DataFrameSelector(['Age','SibSp','Parch','Fare'])),\r\n",
    "        ('imputer', SimpleImputer(strategy=\"median\")),\r\n",
    "        ('attribs_adder', RelAdder()),\r\n",
    "        ('std_scaler', StandardScaler()),\r\n",
    "    ])\r\n",
    "\r\n",
    "X_num_trans = num_pipeline.fit_transform(X)"
   ],
   "outputs": [],
   "metadata": {}
  },
  {
   "cell_type": "code",
   "execution_count": 58,
   "source": [
    "class MostFrequentImputer(BaseEstimator, TransformerMixin):\r\n",
    "    def fit(self, X, y=None):\r\n",
    "        self.most_frequent_ = pd.Series([X[c].value_counts().index[0] for c in X],\r\n",
    "                                        index=X.columns)\r\n",
    "        return self\r\n",
    "    def transform(self, X, y=None):\r\n",
    "        return X.fillna(self.most_frequent_)"
   ],
   "outputs": [],
   "metadata": {}
  },
  {
   "cell_type": "code",
   "execution_count": 60,
   "source": [
    "from sklearn.preprocessing import OneHotEncoder\r\n",
    "\r\n",
    "cat_pipeline = Pipeline([\r\n",
    "    ('select_cat', DataFrameSelector(['Pclass','Sex','Embarked'])),\r\n",
    "    ('imputer', MostFrequentImputer()),\r\n",
    "    ('cat_encoder', OneHotEncoder(sparse= False))\r\n",
    "])"
   ],
   "outputs": [
    {
     "output_type": "execute_result",
     "data": {
      "text/plain": [
       "array([[0., 0., 1., ..., 0., 0., 1.],\n",
       "       [1., 0., 0., ..., 1., 0., 0.],\n",
       "       [0., 0., 1., ..., 0., 0., 1.],\n",
       "       ...,\n",
       "       [0., 0., 1., ..., 0., 0., 1.],\n",
       "       [1., 0., 0., ..., 1., 0., 0.],\n",
       "       [0., 0., 1., ..., 0., 1., 0.]])"
      ]
     },
     "metadata": {},
     "execution_count": 60
    }
   ],
   "metadata": {}
  },
  {
   "cell_type": "code",
   "execution_count": 62,
   "source": [
    "from sklearn.pipeline import FeatureUnion\r\n",
    "\r\n",
    "preprocess_pipeline = FeatureUnion(transformer_list= [\r\n",
    "    ('num_pipeline', num_pipeline),\r\n",
    "    ('cat_pipeline', cat_pipeline)\r\n",
    "])"
   ],
   "outputs": [],
   "metadata": {}
  },
  {
   "cell_type": "code",
   "execution_count": 71,
   "source": [
    "# create preprocess\r\n",
    "X_train = preprocess_pipeline.fit_transform(train)\r\n",
    "y_train = train['Survived']"
   ],
   "outputs": [],
   "metadata": {}
  },
  {
   "cell_type": "code",
   "execution_count": 104,
   "source": [
    "from sklearn.svm import SVC\r\n",
    "\r\n",
    "svm_clf = SVC(gamma=\"auto\")\r\n",
    "svm_clf.fit(X_train, y_train)"
   ],
   "outputs": [
    {
     "output_type": "execute_result",
     "data": {
      "text/plain": [
       "SVC(gamma='auto')"
      ]
     },
     "metadata": {},
     "execution_count": 104
    }
   ],
   "metadata": {}
  },
  {
   "cell_type": "code",
   "execution_count": 105,
   "source": [
    "from sklearn.model_selection import cross_val_score\r\n",
    "\r\n",
    "svm_scores = cross_val_score(svm_clf, X_train, y_train, cv=10)\r\n",
    "svm_scores.mean()"
   ],
   "outputs": [
    {
     "output_type": "execute_result",
     "data": {
      "text/plain": [
       "0.7318352059925094"
      ]
     },
     "metadata": {},
     "execution_count": 105
    }
   ],
   "metadata": {}
  },
  {
   "cell_type": "code",
   "execution_count": 106,
   "source": [
    "from sklearn.ensemble import RandomForestClassifier\r\n",
    "\r\n",
    "forest_clf = RandomForestClassifier(n_estimators=100, random_state=42)\r\n",
    "forest_scores = cross_val_score(forest_clf, X_train, y_train, cv=10)\r\n",
    "forest_scores.mean()"
   ],
   "outputs": [
    {
     "output_type": "execute_result",
     "data": {
      "text/plain": [
       "0.8036828963795255"
      ]
     },
     "metadata": {},
     "execution_count": 106
    }
   ],
   "metadata": {}
  },
  {
   "cell_type": "code",
   "execution_count": 110,
   "source": [
    "from sklearn.model_selection import GridSearchCV\r\n",
    "param_grid = { \r\n",
    "    'n_estimators': [200, 500],\r\n",
    "    'max_features': ['auto', 'sqrt', 'log2'],\r\n",
    "    'max_depth' : [4,5,6,7,8],\r\n",
    "    'criterion' :['gini', 'entropy']\r\n",
    "}\r\n",
    "\r\n",
    "gridsearch_rf = GridSearchCV(RandomForestClassifier(n_estimators= 100, random_state= 42), param_grid= param_grid, cv = 5)"
   ],
   "outputs": [],
   "metadata": {}
  },
  {
   "cell_type": "code",
   "execution_count": 111,
   "source": [
    "gridsearch_rf.fit(X_train, y_train)"
   ],
   "outputs": [
    {
     "output_type": "execute_result",
     "data": {
      "text/plain": [
       "GridSearchCV(cv=5, estimator=RandomForestClassifier(random_state=42),\n",
       "             param_grid={'criterion': ['gini', 'entropy'],\n",
       "                         'max_depth': [4, 5, 6, 7, 8],\n",
       "                         'max_features': ['auto', 'sqrt', 'log2'],\n",
       "                         'n_estimators': [200, 500]})"
      ]
     },
     "metadata": {},
     "execution_count": 111
    }
   ],
   "metadata": {}
  },
  {
   "cell_type": "code",
   "execution_count": 112,
   "source": [
    "gridsearch_rf.best_params_"
   ],
   "outputs": [
    {
     "output_type": "execute_result",
     "data": {
      "text/plain": [
       "{'criterion': 'gini',\n",
       " 'max_depth': 8,\n",
       " 'max_features': 'auto',\n",
       " 'n_estimators': 200}"
      ]
     },
     "metadata": {},
     "execution_count": 112
    }
   ],
   "metadata": {}
  },
  {
   "cell_type": "code",
   "execution_count": 116,
   "source": [
    "# test data \r\n",
    "\r\n",
    "test_data = pd.read_csv('data/test.csv')\r\n",
    "submission = pd.read_csv('data/gender_submission.csv')"
   ],
   "outputs": [],
   "metadata": {}
  },
  {
   "cell_type": "code",
   "execution_count": 117,
   "source": [
    "X_test = preprocess_pipeline.fit_transform(test_data)\r\n",
    "test_preds = gridsearch_rf.best_estimator_.predict(X_test)"
   ],
   "outputs": [],
   "metadata": {}
  },
  {
   "cell_type": "code",
   "execution_count": 120,
   "source": [
    "submission['Survived'] = test_preds\r\n",
    "submission.to_csv('submission1.csv', index= False)"
   ],
   "outputs": [],
   "metadata": {}
  },
  {
   "cell_type": "markdown",
   "source": [
    "## Create test for one passenger"
   ],
   "metadata": {}
  },
  {
   "cell_type": "code",
   "execution_count": 205,
   "source": [
    "# test pred 0 did not survive\r\n",
    "test_preds[0]"
   ],
   "outputs": [
    {
     "output_type": "execute_result",
     "data": {
      "text/plain": [
       "0"
      ]
     },
     "metadata": {},
     "execution_count": 205
    }
   ],
   "metadata": {}
  },
  {
   "cell_type": "code",
   "execution_count": 206,
   "source": [
    "sample1 = test_data[test_data.index == 0]"
   ],
   "outputs": [],
   "metadata": {}
  },
  {
   "cell_type": "code",
   "execution_count": 208,
   "source": [
    "# details of sample 1\r\n",
    "sample1"
   ],
   "outputs": [
    {
     "output_type": "execute_result",
     "data": {
      "text/plain": [
       "   PassengerId  Pclass              Name   Sex   Age  SibSp  Parch  Ticket  \\\n",
       "0          892       3  Kelly, Mr. James  male  34.5      0      0  330911   \n",
       "\n",
       "     Fare Cabin Embarked  \n",
       "0  7.8292   NaN        Q  "
      ],
      "text/html": [
       "<div>\n",
       "<style scoped>\n",
       "    .dataframe tbody tr th:only-of-type {\n",
       "        vertical-align: middle;\n",
       "    }\n",
       "\n",
       "    .dataframe tbody tr th {\n",
       "        vertical-align: top;\n",
       "    }\n",
       "\n",
       "    .dataframe thead th {\n",
       "        text-align: right;\n",
       "    }\n",
       "</style>\n",
       "<table border=\"1\" class=\"dataframe\">\n",
       "  <thead>\n",
       "    <tr style=\"text-align: right;\">\n",
       "      <th></th>\n",
       "      <th>PassengerId</th>\n",
       "      <th>Pclass</th>\n",
       "      <th>Name</th>\n",
       "      <th>Sex</th>\n",
       "      <th>Age</th>\n",
       "      <th>SibSp</th>\n",
       "      <th>Parch</th>\n",
       "      <th>Ticket</th>\n",
       "      <th>Fare</th>\n",
       "      <th>Cabin</th>\n",
       "      <th>Embarked</th>\n",
       "    </tr>\n",
       "  </thead>\n",
       "  <tbody>\n",
       "    <tr>\n",
       "      <th>0</th>\n",
       "      <td>892</td>\n",
       "      <td>3</td>\n",
       "      <td>Kelly, Mr. James</td>\n",
       "      <td>male</td>\n",
       "      <td>34.5</td>\n",
       "      <td>0</td>\n",
       "      <td>0</td>\n",
       "      <td>330911</td>\n",
       "      <td>7.8292</td>\n",
       "      <td>NaN</td>\n",
       "      <td>Q</td>\n",
       "    </tr>\n",
       "  </tbody>\n",
       "</table>\n",
       "</div>"
      ]
     },
     "metadata": {},
     "execution_count": 208
    }
   ],
   "metadata": {}
  },
  {
   "cell_type": "code",
   "execution_count": 211,
   "source": [
    "# using 1 index dataframe, the preprocess pipeline wont work\r\n",
    "sample1_preproc = preprocess_pipeline.fit_transform(sample1)\r\n",
    "sample1_preproc.shape"
   ],
   "outputs": [
    {
     "output_type": "execute_result",
     "data": {
      "text/plain": [
       "(1, 8)"
      ]
     },
     "metadata": {},
     "execution_count": 211
    }
   ],
   "metadata": {}
  },
  {
   "cell_type": "code",
   "execution_count": 213,
   "source": [
    "# create from input data\r\n",
    "input_data = {\r\n",
    "    'Pclass': 3,\r\n",
    "    'Name' : 'Mark Anthony Sanchez',\r\n",
    "    'Sex' : 'male',\r\n",
    "    'Age': 34.5,\r\n",
    "    'SibSp': 0,\r\n",
    "    'Parch': 0,\r\n",
    "    'Fare': 7.8292,\r\n",
    "    'Embarked' : 'Q'\r\n",
    "}\r\n",
    "\r\n",
    "input_features = pd.DataFrame(input_data, index= [0])\r\n",
    "input_features"
   ],
   "outputs": [
    {
     "output_type": "execute_result",
     "data": {
      "text/plain": [
       "   Pclass                  Name   Sex   Age  SibSp  Parch    Fare Embarked\n",
       "0       3  Mark Anthony Sanchez  male  34.5      0      0  7.8292        Q"
      ],
      "text/html": [
       "<div>\n",
       "<style scoped>\n",
       "    .dataframe tbody tr th:only-of-type {\n",
       "        vertical-align: middle;\n",
       "    }\n",
       "\n",
       "    .dataframe tbody tr th {\n",
       "        vertical-align: top;\n",
       "    }\n",
       "\n",
       "    .dataframe thead th {\n",
       "        text-align: right;\n",
       "    }\n",
       "</style>\n",
       "<table border=\"1\" class=\"dataframe\">\n",
       "  <thead>\n",
       "    <tr style=\"text-align: right;\">\n",
       "      <th></th>\n",
       "      <th>Pclass</th>\n",
       "      <th>Name</th>\n",
       "      <th>Sex</th>\n",
       "      <th>Age</th>\n",
       "      <th>SibSp</th>\n",
       "      <th>Parch</th>\n",
       "      <th>Fare</th>\n",
       "      <th>Embarked</th>\n",
       "    </tr>\n",
       "  </thead>\n",
       "  <tbody>\n",
       "    <tr>\n",
       "      <th>0</th>\n",
       "      <td>3</td>\n",
       "      <td>Mark Anthony Sanchez</td>\n",
       "      <td>male</td>\n",
       "      <td>34.5</td>\n",
       "      <td>0</td>\n",
       "      <td>0</td>\n",
       "      <td>7.8292</td>\n",
       "      <td>Q</td>\n",
       "    </tr>\n",
       "  </tbody>\n",
       "</table>\n",
       "</div>"
      ]
     },
     "metadata": {},
     "execution_count": 213
    }
   ],
   "metadata": {}
  },
  {
   "cell_type": "code",
   "execution_count": 214,
   "source": [
    "# combine the input feature to test\r\n",
    "combined = pd.concat([input_features, test])"
   ],
   "outputs": [],
   "metadata": {}
  },
  {
   "cell_type": "code",
   "execution_count": 215,
   "source": [
    "test_feature_preproc = preprocess_pipeline.fit_transform(combined)[0]\r\n",
    "test_feature_preproc"
   ],
   "outputs": [
    {
     "output_type": "execute_result",
     "data": {
      "text/plain": [
       "array([34.5   ,  0.    ,  0.    ,  7.8292,  0.    ,  0.    ,  0.    ,\n",
       "        1.    ,  0.    ,  1.    ,  0.    ,  1.    ,  0.    ])"
      ]
     },
     "metadata": {},
     "execution_count": 215
    }
   ],
   "metadata": {}
  },
  {
   "cell_type": "code",
   "execution_count": 216,
   "source": [
    "# predict\r\n",
    "gridsearch_rf.best_estimator_.predict([test_feature_preproc])"
   ],
   "outputs": [
    {
     "output_type": "execute_result",
     "data": {
      "text/plain": [
       "array([0], dtype=int64)"
      ]
     },
     "metadata": {},
     "execution_count": 216
    }
   ],
   "metadata": {}
  },
  {
   "cell_type": "markdown",
   "source": [
    "## save the models and try to load the models"
   ],
   "metadata": {}
  },
  {
   "cell_type": "code",
   "execution_count": 217,
   "source": [
    "best_model = gridsearch_rf.best_estimator_\r\n",
    "best_model"
   ],
   "outputs": [
    {
     "output_type": "execute_result",
     "data": {
      "text/plain": [
       "RandomForestClassifier(max_depth=8, n_estimators=200, random_state=42)"
      ]
     },
     "metadata": {},
     "execution_count": 217
    }
   ],
   "metadata": {}
  },
  {
   "cell_type": "code",
   "execution_count": 218,
   "source": [
    "from pickle import dump\r\n",
    "dump(best_model, open('rf_gridsearch.pkl', 'wb'))\r\n",
    "dump(preprocess_pipeline, open('preprocess_pipeline.pkl', 'wb'))"
   ],
   "outputs": [],
   "metadata": {}
  },
  {
   "cell_type": "code",
   "execution_count": 219,
   "source": [
    "from pickle import load\r\n",
    "load_model = load(open('rf_gridsearch.pkl', 'rb'))\r\n",
    "load_preprocess_pipeline = load(open('preprocess_pipeline.pkl', 'rb'))"
   ],
   "outputs": [],
   "metadata": {}
  },
  {
   "cell_type": "code",
   "execution_count": 1,
   "source": [
    "load_model.predict([test_feature_preproc])[0]"
   ],
   "outputs": [
    {
     "output_type": "error",
     "ename": "NameError",
     "evalue": "name 'load_model' is not defined",
     "traceback": [
      "\u001b[1;31m---------------------------------------------------------------------------\u001b[0m",
      "\u001b[1;31mNameError\u001b[0m                                 Traceback (most recent call last)",
      "\u001b[1;32m<ipython-input-1-ebbbe94bc8bb>\u001b[0m in \u001b[0;36m<module>\u001b[1;34m\u001b[0m\n\u001b[1;32m----> 1\u001b[1;33m \u001b[0mload_model\u001b[0m\u001b[1;33m.\u001b[0m\u001b[0mpredict\u001b[0m\u001b[1;33m(\u001b[0m\u001b[1;33m[\u001b[0m\u001b[0mtest_feature_preproc\u001b[0m\u001b[1;33m]\u001b[0m\u001b[1;33m)\u001b[0m\u001b[1;33m[\u001b[0m\u001b[1;36m0\u001b[0m\u001b[1;33m]\u001b[0m\u001b[1;33m\u001b[0m\u001b[1;33m\u001b[0m\u001b[0m\n\u001b[0m",
      "\u001b[1;31mNameError\u001b[0m: name 'load_model' is not defined"
     ]
    }
   ],
   "metadata": {}
  },
  {
   "cell_type": "code",
   "execution_count": 223,
   "source": [
    "load_preprocess_pipeline.fit_transform(combined)[0]"
   ],
   "outputs": [
    {
     "output_type": "execute_result",
     "data": {
      "text/plain": [
       "array([34.5   ,  0.    ,  0.    ,  7.8292,  0.    ,  0.    ,  0.    ,\n",
       "        1.    ,  0.    ,  1.    ,  0.    ,  1.    ,  0.    ])"
      ]
     },
     "metadata": {},
     "execution_count": 223
    }
   ],
   "metadata": {}
  },
  {
   "cell_type": "code",
   "execution_count": null,
   "source": [],
   "outputs": [],
   "metadata": {}
  }
 ],
 "metadata": {
  "orig_nbformat": 4,
  "language_info": {
   "name": "python",
   "version": "3.8.11",
   "mimetype": "text/x-python",
   "codemirror_mode": {
    "name": "ipython",
    "version": 3
   },
   "pygments_lexer": "ipython3",
   "nbconvert_exporter": "python",
   "file_extension": ".py"
  },
  "kernelspec": {
   "name": "python3",
   "display_name": "Python 3.8.11 64-bit ('wb_dv': conda)"
  },
  "interpreter": {
   "hash": "d301fefe98bc64362a982fc0754ed2d76b8581e1b62285a5a1b405107cccc5b7"
  }
 },
 "nbformat": 4,
 "nbformat_minor": 2
}